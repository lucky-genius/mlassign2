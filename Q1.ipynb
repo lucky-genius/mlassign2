{
 "cells": [
  {
   "cell_type": "code",
   "execution_count": 1,
   "metadata": {},
   "outputs": [],
   "source": [
    "import time\n",
    "import numpy as np\n",
    "import matplotlib.pyplot as plt\n",
    "from sklearn.datasets import make_regression\n",
    "from sklearn.datasets import make_classification\n",
    "from sklearn.metrics import r2_score\n",
    "from scipy import linspace, polyval, sqrt, randn"
   ]
  },
  {
   "cell_type": "code",
   "execution_count": 2,
   "metadata": {},
   "outputs": [],
   "source": [
    "# sample data creation\n",
    "# number of points \n",
    "n = int(5000)\n",
    "X = np.linspace(-20, 20, n)\n",
    "# equation parameters\n",
    "a = 4.7; b = -10.3\n",
    "Y = polyval([a,b], X)\n",
    "# add some gaussian noise\n",
    "Yn = Y + 3 * randn(n)"
   ]
  },
  {
   "cell_type": "code",
   "execution_count": 3,
   "metadata": {},
   "outputs": [
    {
     "name": "stdout",
     "output_type": "stream",
     "text": [
      "Full Gradient Descent..\n",
      "Time taken:  0.14 secs\n",
      "No of iterations:  95\n",
      "R2 score:  0.9682\n",
      "Plot: \n"
     ]
    },
    {
     "data": {
      "image/png": "[encoded data removed]",
      "text/plain": [
       "<Figure size 432x288 with 1 Axes>"
      ]
     },
     "metadata": {
      "needs_background": "light"
     },
     "output_type": "display_data"
    }
   ],
   "source": [
    "# Full Gradient Descent\n",
    "# initial slope and intercept for model\n",
    "start = time.time()\n",
    "m = 0\n",
    "c = 0\n",
    "prev_step = 1\n",
    "precision = 0.000001\n",
    "eta = 0.0005 # learning rate\n",
    "epoch = 0\n",
    "max_epochs = 2000 # no of iterations to run GD\n",
    "aggregate_loss = []\n",
    "\n",
    "# perform full gradient descent\n",
    "while prev_step > precision and epoch < max_epochs:\n",
    "    Y_pred = m * X + c\n",
    "    loss = (1/n)* sum((Yn - Y_pred) ** 2)\n",
    "    aggregate_loss.append(loss)\n",
    "    D_m = (-2/n) * sum((Yn - Y_pred) * X)\n",
    "    D_c = (-2/n) * sum(Yn - Y_pred)\n",
    "    prev_m = m\n",
    "    m = m - eta * D_m\n",
    "    c = c - eta * D_c\n",
    "    prev_step = abs(m - prev_m)\n",
    "    epoch += 1\n",
    "end = time.time()\n",
    "\n",
    "# predict values\n",
    "Y_pred = m * X + c\n",
    "\n",
    "print(\"Full Gradient Descent..\")\n",
    "print(\"Time taken: \", round(end - start, 2), \"secs\")\n",
    "print(\"No of iterations: \", epoch)\n",
    "print(\"R2 score: \", round(r2_score(Yn, Y_pred), 4))\n",
    "\n",
    "# loss function plot\n",
    "x_axis = np.linspace(1, epoch, epoch, endpoint=True)\n",
    "plt.semilogy(x_axis, aggregate_loss)\n",
    "plt.xlabel('epoch')\n",
    "plt.ylabel('loss')\n",
    "print(\"Plot: \")\n",
    "plt.show()\n",
    "\n",
    "# plot result\n",
    "# plt.scatter(X, Y)\n",
    "# print(\"Plot: \")\n",
    "# plt.plot([min(X), max(X)], [min(Y_pred), max(Y_pred)], color='red') # regression line\n",
    "# plt.show()"
   ]
  },
  {
   "cell_type": "code",
   "execution_count": 4,
   "metadata": {},
   "outputs": [
    {
     "name": "stdout",
     "output_type": "stream",
     "text": [
      "Stochastic Gradient Descent..\n",
      "Time taken:  3.91 secs\n",
      "R2 score:  0.9648\n",
      "Plot: \n"
     ]
    },
    {
     "data": {
      "image/png": "[encoded data removed]",
      "text/plain": [
       "<Figure size 432x288 with 1 Axes>"
      ]
     },
     "metadata": {
      "needs_background": "light"
     },
     "output_type": "display_data"
    }
   ],
   "source": [
    "# Stochastic Gradient Descent\n",
    "# initial slope and intercept for model\n",
    "start = time.time()\n",
    "m = 0\n",
    "c = 0\n",
    "eta = 0.0001 # learning rate\n",
    "epoch = 0\n",
    "max_epochs = 200 # no of iterations to run GD\n",
    "aggregate_loss = []\n",
    "\n",
    "for epoch in range(max_epochs):\n",
    "    Y_pred = np.empty(len(X))\n",
    "    for i in range(len(X)):\n",
    "        Y_pred[i] = (m * X[i] + c)\n",
    "        D_m = eta * (-2/n) * ((Yn[i] - Y_pred[i]) * X[i])\n",
    "        D_c = eta * (-2/n) * (Yn[i] - Y_pred[i])\n",
    "        m = m - D_m\n",
    "        c = c - D_c\n",
    "    loss = (1/n)* sum((Yn - Y_pred) ** 2)\n",
    "    aggregate_loss.append(loss)\n",
    "end = time.time()\n",
    "\n",
    "# predict values\n",
    "Y_pred = m * X + c\n",
    "\n",
    "print(\"Stochastic Gradient Descent..\")\n",
    "print(\"Time taken: \", round(end - start, 2), \"secs\")\n",
    "print(\"R2 score: \", round(r2_score(Yn, Y_pred), 4))\n",
    "\n",
    "# loss function plot\n",
    "x_axis = np.linspace(1, epoch+1, epoch+1, endpoint=True)\n",
    "plt.semilogy(x_axis, aggregate_loss)\n",
    "plt.xlabel('epoch')\n",
    "plt.ylabel('loss')\n",
    "print(\"Plot: \")\n",
    "plt.show()"
   ]
  },
  {
   "cell_type": "code",
   "execution_count": 5,
   "metadata": {},
   "outputs": [
    {
     "name": "stdout",
     "output_type": "stream",
     "text": [
      "SGD with momentum..\n",
      "Time taken:  2.53 secs\n",
      "R2 score:  0.9671\n",
      "Plot: \n"
     ]
    },
    {
     "data": {
      "image/png": "[encoded data removed]",
      "text/plain": [
       "<Figure size 432x288 with 1 Axes>"
      ]
     },
     "metadata": {
      "needs_background": "light"
     },
     "output_type": "display_data"
    }
   ],
   "source": [
    "# SGD with momentum\n",
    "# initial slope and intercept for model\n",
    "start = time.time()\n",
    "m = 0\n",
    "c = 0\n",
    "eta = 0.0001 # learning rate\n",
    "gamma = 0.9 # momentum hyper parameter in range (0,1]\n",
    "epoch = 0\n",
    "max_epochs = 200 # no of iterations to run GD\n",
    "aggregate_loss = []\n",
    "\n",
    "for epoch in range(max_epochs):\n",
    "    Y_pred = np.empty(len(X))\n",
    "    prev_D_m = 0\n",
    "    prev_D_c = 0\n",
    "    for i in range(len(X)):\n",
    "        Y_pred[i] = (m * X[i] + c)\n",
    "        D_m = eta * (-2/n) * ((Yn[i] - Y_pred[i]) * X[i])\n",
    "        D_c = eta * (-2/n) * (Yn[i] - Y_pred[i])\n",
    "        m = m - (gamma * prev_D_m + D_m)\n",
    "        c = c - (gamma * prev_D_c + D_c)\n",
    "        prev_D_m = D_m\n",
    "        prev_D_c = D_c\n",
    "    loss = (1/n)* sum((Yn - Y_pred) ** 2)\n",
    "    aggregate_loss.append(loss)\n",
    "end = time.time()\n",
    "\n",
    "# predict values\n",
    "Y_pred = m * X + c\n",
    "\n",
    "print(\"SGD with momentum..\")\n",
    "print(\"Time taken: \", round(end - start, 2), \"secs\")\n",
    "print(\"R2 score: \", round(r2_score(Yn, Y_pred), 4))\n",
    "\n",
    "# loss function plot\n",
    "x_axis = np.linspace(1, epoch+1, epoch+1, endpoint=True)\n",
    "plt.semilogy(x_axis, aggregate_loss)\n",
    "plt.xlabel('epoch')\n",
    "plt.ylabel('loss')\n",
    "print(\"Plot: \")\n",
    "plt.show()"
   ]
  }
 ],
 "metadata": {
  "kernelspec": {
   "display_name": "Python 3",
   "language": "python",
   "name": "python3"
  },
  "language_info": {
   "codemirror_mode": {
    "name": "ipython",
    "version": 3
   },
   "file_extension": ".py",
   "mimetype": "text/x-python",
   "name": "python",
   "nbconvert_exporter": "python",
   "pygments_lexer": "ipython3",
   "version": "3.7.0"
  }
 },
 "nbformat": 4,
 "nbformat_minor": 2
}
