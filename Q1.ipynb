{
 "cells": [
  {
   "cell_type": "code",
   "execution_count": 1,
   "metadata": {},
   "outputs": [],
   "source": [
    "import time\n",
    "import numpy as np\n",
    "import matplotlib.pyplot as plt\n",
    "from sklearn.datasets import make_regression\n",
    "from sklearn.datasets import make_classification\n",
    "from sklearn.metrics import r2_score\n",
    "from scipy import linspace, polyval, sqrt, randn"
   ]
  },
  {
   "cell_type": "code",
   "execution_count": 2,
   "metadata": {},
   "outputs": [
    {
     "data": {
      "image/png": "[encoded data removed]",
      "text/plain": [
       "<Figure size 432x288 with 1 Axes>"
      ]
     },
     "metadata": {
      "needs_background": "light"
     },
     "output_type": "display_data"
    }
   ],
   "source": [
    "# generate regression dataset\n",
    "X, y = make_classification(n_samples=1000, n_features=1, n_informative=1, n_redundant=0, n_repeated=0,\n",
    "                           n_classes=2, n_clusters_per_class=1, random_state=0)\n",
    "# X, y = make_regression(n_samples=100, n_features=1, noise=0.2)\n",
    "# plot regression dataset\n",
    "plt.scatter(X,y)\n",
    "plt.show()"
   ]
  },
  {
   "cell_type": "code",
   "execution_count": 3,
   "metadata": {},
   "outputs": [],
   "source": [
    "# sample data creation\n",
    "# number of points \n",
    "n = int(50000)\n",
    "X = np.linspace(-20, 20, n)\n",
    "# print(\"t: \", t)\n",
    "# parameters\n",
    "a = 3.25; b = -6.5\n",
    "Y = polyval([a,b], X)\n",
    "# print(\"x: \", x)\n",
    "# add some noise\n",
    "Yn = Y + 3 * randn(n)"
   ]
  },
  {
   "cell_type": "code",
   "execution_count": 4,
   "metadata": {},
   "outputs": [
    {
     "name": "stdout",
     "output_type": "stream",
     "text": [
      "Full Gradient Descent..\n",
      "Time taken:  3.71 secs\n",
      "No of iterations:  422\n",
      "R2 score:  0.9685\n",
      "Plot: \n"
     ]
    },
    {
     "data": {
      "image/png": "[encoded data removed]",
      "text/plain": [
       "<Figure size 432x288 with 1 Axes>"
      ]
     },
     "metadata": {
      "needs_background": "light"
     },
     "output_type": "display_data"
    }
   ],
   "source": [
    "# Full Gradient Descent\n",
    "# initial slope and intercept for model\n",
    "start = time.time()\n",
    "m = 0\n",
    "c = 0\n",
    "prev_step = 1\n",
    "precision = 0.000001\n",
    "eta = 0.0001 # learning rate\n",
    "epoch = 0\n",
    "max_epochs = 2000 # no of iterations to run GD\n",
    "\n",
    "# perform full gradient descent\n",
    "while prev_step > precision and epoch < max_epochs:\n",
    "    Y_pred = m * X + c\n",
    "    D_m = (-2/n) * sum((Yn - Y_pred) * X)\n",
    "    D_c = (-2/n) * sum(Yn - Y_pred)\n",
    "    prev_m = m\n",
    "    m = m - eta * D_m\n",
    "    c = c - eta * D_c\n",
    "    prev_step = abs(m - prev_m)\n",
    "    epoch += 1\n",
    "end = time.time()\n",
    "\n",
    "# predict values\n",
    "Y_pred = m * X + c\n",
    "\n",
    "print(\"Full Gradient Descent..\")\n",
    "print(\"Time taken: \", round(end - start, 2), \"secs\")\n",
    "print(\"No of iterations: \", epoch)\n",
    "print(\"R2 score: \", round(r2_score(Yn, Y_pred), 4))\n",
    "\n",
    "# plot result\n",
    "plt.scatter(X, Y)\n",
    "print(\"Plot: \")\n",
    "plt.plot([min(X), max(X)], [min(Y_pred), max(Y_pred)], color='red') # regression line\n",
    "plt.show()"
   ]
  },
  {
   "cell_type": "code",
   "execution_count": 5,
   "metadata": {},
   "outputs": [
    {
     "name": "stdout",
     "output_type": "stream",
     "text": [
      "2\n",
      "2\n",
      "X:  [-20.         -19.99919998 -19.99839997 ...  19.99839997  19.99919998\n",
      "  20.        ]\n",
      "Yn:  [-66.78905048 -69.73977976 -81.4617616  ...  53.76608728  57.74263577\n",
      "  55.15431944]\n",
      "new X:  (array([-19.99919998, -19.9951999 , -19.99759995, -19.99359987,\n",
      "       -19.99839997]), array([-69.73977976, -71.1757215 , -74.71231375, -66.64398178,\n",
      "       -81.4617616 ]))\n",
      "new Yn:  (array([-20.        , -19.99439989, -19.99279986, -19.99599992,\n",
      "       -19.99679994]), array([-66.78905048, -77.3402522 , -69.93407972, -73.36317028,\n",
      "       -70.53937678]))\n"
     ]
    },
    {
     "ename": "ValueError",
     "evalue": "operands could not be broadcast together with shapes (5,) (50000,) ",
     "output_type": "error",
     "traceback": [
      "\u001b[0;31m---------------------------------------------------------------------------\u001b[0m",
      "\u001b[0;31mValueError\u001b[0m                                Traceback (most recent call last)",
      "\u001b[0;32m<ipython-input-5-6a0442686825>\u001b[0m in \u001b[0;36m<module>\u001b[0;34m()\u001b[0m\n\u001b[1;32m     35\u001b[0m     \u001b[0mbatchYn\u001b[0m \u001b[0;34m=\u001b[0m \u001b[0mnewY\u001b[0m\u001b[0;34m[\u001b[0m\u001b[0mi\u001b[0m\u001b[0;34m]\u001b[0m\u001b[0;34m\u001b[0m\u001b[0m\n\u001b[1;32m     36\u001b[0m     \u001b[0mY_pred\u001b[0m \u001b[0;34m=\u001b[0m \u001b[0mm\u001b[0m \u001b[0;34m*\u001b[0m \u001b[0mX\u001b[0m \u001b[0;34m+\u001b[0m \u001b[0mc\u001b[0m\u001b[0;34m\u001b[0m\u001b[0m\n\u001b[0;32m---> 37\u001b[0;31m     \u001b[0mD_m\u001b[0m \u001b[0;34m=\u001b[0m \u001b[0;34m(\u001b[0m\u001b[0;34m-\u001b[0m\u001b[0;36m2\u001b[0m\u001b[0;34m/\u001b[0m\u001b[0mn\u001b[0m\u001b[0;34m)\u001b[0m \u001b[0;34m*\u001b[0m \u001b[0msum\u001b[0m\u001b[0;34m(\u001b[0m\u001b[0;34m(\u001b[0m\u001b[0mbatchYn\u001b[0m \u001b[0;34m-\u001b[0m \u001b[0mY_pred\u001b[0m\u001b[0;34m)\u001b[0m \u001b[0;34m*\u001b[0m \u001b[0mbatchX\u001b[0m\u001b[0;34m)\u001b[0m\u001b[0;34m\u001b[0m\u001b[0m\n\u001b[0m\u001b[1;32m     38\u001b[0m     \u001b[0mD_c\u001b[0m \u001b[0;34m=\u001b[0m \u001b[0;34m(\u001b[0m\u001b[0;34m-\u001b[0m\u001b[0;36m2\u001b[0m\u001b[0;34m/\u001b[0m\u001b[0mn\u001b[0m\u001b[0;34m)\u001b[0m \u001b[0;34m*\u001b[0m \u001b[0msum\u001b[0m\u001b[0;34m(\u001b[0m\u001b[0mbatchYn\u001b[0m \u001b[0;34m-\u001b[0m \u001b[0mY_pred\u001b[0m\u001b[0;34m)\u001b[0m\u001b[0;34m\u001b[0m\u001b[0m\n\u001b[1;32m     39\u001b[0m \u001b[0;31m#     prev_m = m\u001b[0m\u001b[0;34m\u001b[0m\u001b[0;34m\u001b[0m\u001b[0m\n",
      "\u001b[0;31mValueError\u001b[0m: operands could not be broadcast together with shapes (5,) (50000,) "
     ]
    }
   ],
   "source": [
    "# Stochastic Gradient Descent\n",
    "# initial slope and intercept for model\n",
    "start = time.time()\n",
    "m = 0\n",
    "c = 0\n",
    "eta = 0.0001 # learning rate\n",
    "epoch = 0\n",
    "max_epochs = 1000 # no of iterations to run GD\n",
    "\n",
    "# create random mini-batches\n",
    "def iterate_minibatches(inputs, targets, batchsize, shuffle=False):\n",
    "    assert inputs.shape[0] == targets.shape[0]\n",
    "    if shuffle:\n",
    "        indices = np.arange(inputs.shape[0])\n",
    "        np.random.shuffle(indices)\n",
    "    for start_idx in range(0, inputs.shape[0] - batchsize + 1, batchsize):\n",
    "        if shuffle:\n",
    "            excerpt = indices[start_idx:start_idx + batchsize]\n",
    "        else:\n",
    "            excerpt = slice(start_idx, start_idx + batchsize)\n",
    "        yield inputs[excerpt], targets[excerpt]\n",
    "        \n",
    "newX, newY = iterate_minibatches(X[0:10], Yn[0:10], 5, True)\n",
    "print(len(newX))\n",
    "print(len(newY))\n",
    "print(\"X: \", X)\n",
    "print(\"Yn: \", Yn)\n",
    "print(\"new X: \", newX)\n",
    "print(\"new Yn: \", newY)\n",
    "\n",
    "\n",
    "# while prev_step > precision and epoch < max_epochs:\n",
    "for i in range(len(newX)):\n",
    "    batchX = newX[i]\n",
    "    batchYn = newY[i]\n",
    "    Y_pred = m * X + c\n",
    "    D_m = (-2/n) * sum((batchYn - Y_pred) * batchX)\n",
    "    D_c = (-2/n) * sum(batchYn - Y_pred)\n",
    "#     prev_m = m\n",
    "    m = m - eta * D_m\n",
    "    c = c - eta * D_c\n",
    "#     prev_step = abs(m - prev_m)\n",
    "#     epoch += 1\n",
    "end = time.time()\n",
    "\n",
    "# predict values\n",
    "Y_pred = m * X + c\n",
    "\n",
    "print(\"Full Gradient Descent..\")\n",
    "print(\"Time taken: \", round(end - start, 2), \"secs\")\n",
    "print(\"No of iterations: \", epoch)\n",
    "print(\"R2 score: \", round(r2_score(Yn, Y_pred), 4))\n",
    "\n",
    "# plot result\n",
    "plt.scatter(X, Y)\n",
    "print(\"Plot: \")\n",
    "plt.plot([min(X), max(X)], [min(Y_pred), max(Y_pred)], color='red') # regression line\n",
    "plt.show()"
   ]
  }
 ],
 "metadata": {
  "kernelspec": {
   "display_name": "Python 3",
   "language": "python",
   "name": "python3"
  },
  "language_info": {
   "codemirror_mode": {
    "name": "ipython",
    "version": 3
   },
   "file_extension": ".py",
   "mimetype": "text/x-python",
   "name": "python",
   "nbconvert_exporter": "python",
   "pygments_lexer": "ipython3",
   "version": "3.7.0"
  }
 },
 "nbformat": 4,
 "nbformat_minor": 2
}
