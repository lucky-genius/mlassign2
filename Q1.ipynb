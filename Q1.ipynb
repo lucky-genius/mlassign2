{
 "cells": [
  {
   "cell_type": "code",
   "execution_count": 1,
   "metadata": {},
   "outputs": [],
   "source": [
    "import time\n",
    "import numpy as np\n",
    "import matplotlib.pyplot as plt\n",
    "from sklearn.datasets import make_regression\n",
    "from sklearn.datasets import make_classification\n",
    "from sklearn.metrics import r2_score\n",
    "from scipy import linspace, polyval, sqrt, randn"
   ]
  },
  {
   "cell_type": "code",
   "execution_count": 2,
   "metadata": {},
   "outputs": [],
   "source": [
    "# sample data creation\n",
    "# source: https://github.com/tirthajyoti/PythonMachineLearning/blob/master/Linear_Regression_Methods.ipynb\n",
    "# number of points \n",
    "n = int(5000)\n",
    "X = np.linspace(-20, 20, n)\n",
    "# equation parameters\n",
    "a = 4.7; b = -10.3\n",
    "Y = polyval([a,b], X)\n",
    "# add some gaussian noise\n",
    "Yn = Y + 3 * randn(n)"
   ]
  },
  {
   "cell_type": "code",
   "execution_count": 28,
   "metadata": {},
   "outputs": [
    {
     "name": "stdout",
     "output_type": "stream",
     "text": [
      "Full Gradient Descent..\n",
      "Time taken:  0.31 secs\n",
      "No of iterations:  200\n",
      "R2 score:  0.99626\n",
      "Plot: \n"
     ]
    },
    {
     "data": {
      "image/png": "[encoded data removed]",
      "text/plain": [
       "<Figure size 432x288 with 1 Axes>"
      ]
     },
     "metadata": {
      "needs_background": "light"
     },
     "output_type": "display_data"
    }
   ],
   "source": [
    "# Full Gradient Descent\n",
    "# initial slope and intercept for model\n",
    "start = time.time()\n",
    "m = 0\n",
    "c = 0\n",
    "prev_step = 1\n",
    "eta = 0.005 # learning rate\n",
    "epoch = 0\n",
    "max_epochs = 200 # no of iterations to run GD\n",
    "aggregate_loss_fgd = []\n",
    "\n",
    "# perform full gradient descent\n",
    "while epoch < max_epochs:\n",
    "    Y_pred = m * X + c\n",
    "    loss = (1/n)* sum((Yn - Y_pred) ** 2)\n",
    "    aggregate_loss_fgd.append(loss)\n",
    "    D_m = (-2/n) * sum((Yn - Y_pred) * X)\n",
    "    D_c = (-2/n) * sum(Yn - Y_pred)\n",
    "    prev_m = m\n",
    "    m = m - eta * D_m\n",
    "    c = c - eta * D_c\n",
    "    epoch += 1\n",
    "end = time.time()\n",
    "\n",
    "# predict values\n",
    "Y_pred = m * X + c\n",
    "\n",
    "print(\"Full Gradient Descent..\")\n",
    "print(\"Time taken: \", round(end - start, 2), \"secs\")\n",
    "print(\"No of iterations: \", epoch)\n",
    "print(\"R2 score: \", round(r2_score(Yn, Y_pred), 5))\n",
    "\n",
    "# loss function plot\n",
    "x_axis = np.linspace(1, max_epochs, max_epochs, endpoint=True)\n",
    "plt.semilogy(x_axis, aggregate_loss_fgd)\n",
    "plt.xlabel('epoch')\n",
    "plt.ylabel('loss')\n",
    "print(\"Plot: \")\n",
    "plt.show()"
   ]
  },
  {
   "cell_type": "code",
   "execution_count": 30,
   "metadata": {},
   "outputs": [
    {
     "name": "stdout",
     "output_type": "stream",
     "text": [
      "Stochastic Gradient Descent..\n",
      "Time taken:  2.25 secs\n",
      "R2 score:  0.99617\n",
      "Plot: \n"
     ]
    },
    {
     "data": {
      "image/png": "[encoded data removed]",
      "text/plain": [
       "<Figure size 432x288 with 1 Axes>"
      ]
     },
     "metadata": {
      "needs_background": "light"
     },
     "output_type": "display_data"
    }
   ],
   "source": [
    "# Stochastic Gradient Descent\n",
    "# initial slope and intercept for model\n",
    "start = time.time()\n",
    "m = 0\n",
    "c = 0\n",
    "eta = 0.005 # learning rate\n",
    "epoch = 0\n",
    "max_epochs = 200 # no of iterations to run GD\n",
    "aggregate_loss_sgd = []\n",
    "\n",
    "for epoch in range(max_epochs):\n",
    "    Y_pred = np.empty(len(X))\n",
    "    for i in range(len(X)):\n",
    "        Y_pred[i] = (m * X[i] + c)\n",
    "        D_m = eta * (-2/n) * ((Yn[i] - Y_pred[i]) * X[i])\n",
    "        D_c = eta * (-2/n) * (Yn[i] - Y_pred[i])\n",
    "        m = m - D_m\n",
    "        c = c - D_c\n",
    "    loss = (1/n)* sum((Yn - Y_pred) ** 2)\n",
    "    aggregate_loss_sgd.append(loss)\n",
    "end = time.time()\n",
    "\n",
    "# predict values\n",
    "Y_pred = m * X + c\n",
    "\n",
    "print(\"Stochastic Gradient Descent..\")\n",
    "print(\"Time taken: \", round(end - start, 2), \"secs\")\n",
    "print(\"R2 score: \", round(r2_score(Yn, Y_pred), 5))\n",
    "\n",
    "# loss function plot\n",
    "x_axis = np.linspace(1, max_epochs, max_epochs, endpoint=True)\n",
    "plt.semilogy(x_axis, aggregate_loss_sgd)\n",
    "plt.xlabel('epoch')\n",
    "plt.ylabel('loss')\n",
    "print(\"Plot: \")\n",
    "plt.show()"
   ]
  },
  {
   "cell_type": "code",
   "execution_count": 27,
   "metadata": {},
   "outputs": [
    {
     "name": "stdout",
     "output_type": "stream",
     "text": [
      "SGD with momentum..\n",
      "Time taken:  3.06 secs\n",
      "R2 score:  0.99687\n",
      "Plot: \n"
     ]
    },
    {
     "data": {
      "image/png": "[encoded data removed]",
      "text/plain": [
       "<Figure size 432x288 with 1 Axes>"
      ]
     },
     "metadata": {
      "needs_background": "light"
     },
     "output_type": "display_data"
    }
   ],
   "source": [
    "# SGD with momentum\n",
    "# initial slope and intercept for model\n",
    "start = time.time()\n",
    "m = 0\n",
    "c = 0\n",
    "eta = 0.005 # learning rate\n",
    "gamma = 0.9 # momentum hyper parameter in range (0,1]\n",
    "beta = 0.9\n",
    "epoch = 0\n",
    "max_epochs = 200 # no of iterations to run GD\n",
    "aggregate_loss_sgdm = []\n",
    "\n",
    "for epoch in range(max_epochs):\n",
    "    Y_pred = np.empty(len(X))\n",
    "    prev_D_m = 0\n",
    "    prev_D_c = 0\n",
    "    for i in range(len(X)):\n",
    "        Y_pred[i] = (m * X[i] + c)\n",
    "        D_m = eta * (-2/n) * ((Yn[i] - Y_pred[i]) * X[i])\n",
    "        D_c = eta * (-2/n) * (Yn[i] - Y_pred[i])\n",
    "        m = m - (gamma * prev_D_m + D_m)\n",
    "        c = c - (gamma * prev_D_c + D_c)\n",
    "        prev_D_m = beta * prev_D_m + (1 - beta) * D_m\n",
    "        prev_D_c = beta * prev_D_c + (1 - beta) * D_c\n",
    "    loss = (1/n)* sum((Yn - Y_pred) ** 2)\n",
    "    aggregate_loss_sgdm.append(loss)\n",
    "end = time.time()\n",
    "\n",
    "# predict values\n",
    "Y_pred = m * X + c\n",
    "\n",
    "print(\"SGD with momentum..\")\n",
    "print(\"Time taken: \", round(end - start, 2), \"secs\")\n",
    "print(\"R2 score: \", round(r2_score(Yn, Y_pred), 5))\n",
    "\n",
    "# loss function plot\n",
    "x_axis = np.linspace(1, max_epochs, max_epochs, endpoint=True)\n",
    "plt.semilogy(x_axis, aggregate_loss_sgdm)\n",
    "plt.xlabel('epoch')\n",
    "plt.ylabel('loss')\n",
    "print(\"Plot: \")\n",
    "plt.show()"
   ]
  },
  {
   "cell_type": "code",
   "execution_count": 31,
   "metadata": {},
   "outputs": [
    {
     "name": "stdout",
     "output_type": "stream",
     "text": [
      "AdaGrad..\n",
      "Time taken:  28.59 secs\n",
      "R2 score:  0.99691\n",
      "Plot: \n"
     ]
    },
    {
     "data": {
      "image/png": "[encoded data removed]",
      "text/plain": [
       "<Figure size 432x288 with 1 Axes>"
      ]
     },
     "metadata": {
      "needs_background": "light"
     },
     "output_type": "display_data"
    }
   ],
   "source": [
    "# AdaGrad\n",
    "# initial slope and intercept for model\n",
    "start = time.time()\n",
    "m = 0\n",
    "c = 0\n",
    "eta_m = 0.01 # initial learning rate for both parameters\n",
    "eta_c = 0.001\n",
    "epsilon = 1e-8 # smoothing term to avoid division by zero\n",
    "epoch = 0\n",
    "max_epochs = 200 # no of iterations to run GD\n",
    "aggregate_loss_adagrad = []\n",
    "\n",
    "for epoch in range(max_epochs):\n",
    "    Y_pred = np.empty(len(X))\n",
    "    D_m_history = 0\n",
    "    D_c_history = 0\n",
    "    for i in range(len(X)):\n",
    "        Y_pred[i] = (m * X[i] + c)\n",
    "        # gradient of the cost function w.r.t to each parameter at the current value of the parameter\n",
    "        D_m = (-2/n) * ((Yn[i] - Y_pred[i]) * X[i])\n",
    "        D_c = (-2/n) * (Yn[i] - Y_pred[i])\n",
    "        D_m_history += D_m ** 2\n",
    "        D_c_history += D_c ** 2\n",
    "        # w = w + delta_w\n",
    "        delta_m = - (eta_m / (sqrt(D_m_history) + epsilon) * D_m)\n",
    "        delta_c = - (eta_c / (sqrt(D_c_history) + epsilon) * D_c)\n",
    "        m = m + delta_m\n",
    "        c = c + delta_c    \n",
    "    loss = (1/n)* sum((Yn - Y_pred) ** 2)\n",
    "    aggregate_loss_adagrad.append(loss)\n",
    "end = time.time()\n",
    "\n",
    "# predict values\n",
    "Y_pred = m * X + c\n",
    "\n",
    "print(\"AdaGrad..\")\n",
    "print(\"Time taken: \", round(end - start, 2), \"secs\")\n",
    "print(\"R2 score: \", round(r2_score(Yn, Y_pred), 5))\n",
    "\n",
    "# loss function plot\n",
    "x_axis = np.linspace(1, epoch+1, epoch+1, endpoint=True)\n",
    "plt.semilogy(x_axis, aggregate_loss_adagrad)\n",
    "plt.xlabel('epoch')\n",
    "plt.ylabel('loss')\n",
    "print(\"Plot: \")\n",
    "plt.show()"
   ]
  },
  {
   "cell_type": "code",
   "execution_count": 49,
   "metadata": {},
   "outputs": [
    {
     "name": "stdout",
     "output_type": "stream",
     "text": [
      "RMSProp..\n",
      "Time taken:  30.05 secs\n",
      "R2 score:  0.99689\n",
      "Plot: \n"
     ]
    },
    {
     "data": {
      "image/png": "[encoded data removed]",
      "text/plain": [
       "<Figure size 432x288 with 1 Axes>"
      ]
     },
     "metadata": {
      "needs_background": "light"
     },
     "output_type": "display_data"
    }
   ],
   "source": [
    "# RMSProp\n",
    "# initial slope and intercept for model\n",
    "start = time.time()\n",
    "m = 0\n",
    "c = 0\n",
    "eta_m = 0.001 # initial learning rate for both parameters\n",
    "eta_c = 0.001\n",
    "epsilon = 1e-8 # smoothing term to avoid division by zero\n",
    "gamma = 0.9\n",
    "epoch = 0\n",
    "max_epochs = 200 # no of iterations to run GD\n",
    "aggregate_loss_rmsprop = []\n",
    "\n",
    "for epoch in range(max_epochs):\n",
    "    Y_pred = np.empty(len(X))\n",
    "    D_m_history = 0\n",
    "    D_c_history = 0\n",
    "    for i in range(len(X)):\n",
    "        Y_pred[i] = (m * X[i] + c)\n",
    "        # gradient of the cost function w.r.t to each parameter at the current value of the parameter\n",
    "        D_m = (-2/n) * ((Yn[i] - Y_pred[i]) * X[i])\n",
    "        D_c = (-2/n) * (Yn[i] - Y_pred[i])\n",
    "        D_m_history = (gamma * D_m_history) + ((1 - gamma) * D_m ** 2)\n",
    "        D_c_history = (gamma * D_c_history) + ((1 - gamma) * D_c ** 2)\n",
    "        # w = w + delta_w\n",
    "        delta_m = - (eta_m / (sqrt(D_m_history) + epsilon) * D_m)\n",
    "        delta_c = - (eta_c / (sqrt(D_c_history) + epsilon) * D_c)\n",
    "        m = m + delta_m\n",
    "        c = c + delta_c    \n",
    "    loss = (1/n)* sum((Yn - Y_pred) ** 2)\n",
    "    aggregate_loss_rmsprop.append(loss)\n",
    "end = time.time()\n",
    "\n",
    "# predict values\n",
    "Y_pred = m * X + c\n",
    "\n",
    "print(\"RMSProp..\")\n",
    "print(\"Time taken: \", round(end - start, 2), \"secs\")\n",
    "print(\"R2 score: \", round(r2_score(Yn, Y_pred), 5))\n",
    "\n",
    "# loss function plot\n",
    "x_axis = np.linspace(1, epoch+1, epoch+1, endpoint=True)\n",
    "plt.semilogy(x_axis, aggregate_loss_rmsprop)\n",
    "plt.xlabel('epoch')\n",
    "plt.ylabel('loss')\n",
    "print(\"Plot: \")\n",
    "plt.show()"
   ]
  },
  {
   "cell_type": "code",
   "execution_count": 47,
   "metadata": {},
   "outputs": [
    {
     "name": "stdout",
     "output_type": "stream",
     "text": [
      "AdaDelta..\n",
      "Time taken:  13.32 secs\n"
     ]
    },
    {
     "ename": "ValueError",
     "evalue": "Input contains NaN, infinity or a value too large for dtype('float64').",
     "output_type": "error",
     "traceback": [
      "\u001b[0;31m---------------------------------------------------------------------------\u001b[0m",
      "\u001b[0;31mValueError\u001b[0m                                Traceback (most recent call last)",
      "\u001b[0;32m<ipython-input-47-90141e0b3cac>\u001b[0m in \u001b[0;36m<module>\u001b[0;34m()\u001b[0m\n\u001b[1;32m     46\u001b[0m \u001b[0mprint\u001b[0m\u001b[0;34m(\u001b[0m\u001b[0;34m\"AdaDelta..\"\u001b[0m\u001b[0;34m)\u001b[0m\u001b[0;34m\u001b[0m\u001b[0m\n\u001b[1;32m     47\u001b[0m \u001b[0mprint\u001b[0m\u001b[0;34m(\u001b[0m\u001b[0;34m\"Time taken: \"\u001b[0m\u001b[0;34m,\u001b[0m \u001b[0mround\u001b[0m\u001b[0;34m(\u001b[0m\u001b[0mend\u001b[0m \u001b[0;34m-\u001b[0m \u001b[0mstart\u001b[0m\u001b[0;34m,\u001b[0m \u001b[0;36m2\u001b[0m\u001b[0;34m)\u001b[0m\u001b[0;34m,\u001b[0m \u001b[0;34m\"secs\"\u001b[0m\u001b[0;34m)\u001b[0m\u001b[0;34m\u001b[0m\u001b[0m\n\u001b[0;32m---> 48\u001b[0;31m \u001b[0mprint\u001b[0m\u001b[0;34m(\u001b[0m\u001b[0;34m\"R2 score: \"\u001b[0m\u001b[0;34m,\u001b[0m \u001b[0mround\u001b[0m\u001b[0;34m(\u001b[0m\u001b[0mr2_score\u001b[0m\u001b[0;34m(\u001b[0m\u001b[0mYn\u001b[0m\u001b[0;34m,\u001b[0m \u001b[0mY_pred\u001b[0m\u001b[0;34m)\u001b[0m\u001b[0;34m,\u001b[0m \u001b[0;36m5\u001b[0m\u001b[0;34m)\u001b[0m\u001b[0;34m)\u001b[0m\u001b[0;34m\u001b[0m\u001b[0m\n\u001b[0m\u001b[1;32m     49\u001b[0m \u001b[0;34m\u001b[0m\u001b[0m\n\u001b[1;32m     50\u001b[0m \u001b[0;31m# loss function plot\u001b[0m\u001b[0;34m\u001b[0m\u001b[0;34m\u001b[0m\u001b[0m\n",
      "\u001b[0;32m/usr/local/lib/python3.7/site-packages/sklearn/metrics/regression.py\u001b[0m in \u001b[0;36mr2_score\u001b[0;34m(y_true, y_pred, sample_weight, multioutput)\u001b[0m\n\u001b[1;32m    532\u001b[0m     \"\"\"\n\u001b[1;32m    533\u001b[0m     y_type, y_true, y_pred, multioutput = _check_reg_targets(\n\u001b[0;32m--> 534\u001b[0;31m         y_true, y_pred, multioutput)\n\u001b[0m\u001b[1;32m    535\u001b[0m     \u001b[0mcheck_consistent_length\u001b[0m\u001b[0;34m(\u001b[0m\u001b[0my_true\u001b[0m\u001b[0;34m,\u001b[0m \u001b[0my_pred\u001b[0m\u001b[0;34m,\u001b[0m \u001b[0msample_weight\u001b[0m\u001b[0;34m)\u001b[0m\u001b[0;34m\u001b[0m\u001b[0m\n\u001b[1;32m    536\u001b[0m \u001b[0;34m\u001b[0m\u001b[0m\n",
      "\u001b[0;32m/usr/local/lib/python3.7/site-packages/sklearn/metrics/regression.py\u001b[0m in \u001b[0;36m_check_reg_targets\u001b[0;34m(y_true, y_pred, multioutput)\u001b[0m\n\u001b[1;32m     75\u001b[0m     \u001b[0mcheck_consistent_length\u001b[0m\u001b[0;34m(\u001b[0m\u001b[0my_true\u001b[0m\u001b[0;34m,\u001b[0m \u001b[0my_pred\u001b[0m\u001b[0;34m)\u001b[0m\u001b[0;34m\u001b[0m\u001b[0m\n\u001b[1;32m     76\u001b[0m     \u001b[0my_true\u001b[0m \u001b[0;34m=\u001b[0m \u001b[0mcheck_array\u001b[0m\u001b[0;34m(\u001b[0m\u001b[0my_true\u001b[0m\u001b[0;34m,\u001b[0m \u001b[0mensure_2d\u001b[0m\u001b[0;34m=\u001b[0m\u001b[0;32mFalse\u001b[0m\u001b[0;34m)\u001b[0m\u001b[0;34m\u001b[0m\u001b[0m\n\u001b[0;32m---> 77\u001b[0;31m     \u001b[0my_pred\u001b[0m \u001b[0;34m=\u001b[0m \u001b[0mcheck_array\u001b[0m\u001b[0;34m(\u001b[0m\u001b[0my_pred\u001b[0m\u001b[0;34m,\u001b[0m \u001b[0mensure_2d\u001b[0m\u001b[0;34m=\u001b[0m\u001b[0;32mFalse\u001b[0m\u001b[0;34m)\u001b[0m\u001b[0;34m\u001b[0m\u001b[0m\n\u001b[0m\u001b[1;32m     78\u001b[0m \u001b[0;34m\u001b[0m\u001b[0m\n\u001b[1;32m     79\u001b[0m     \u001b[0;32mif\u001b[0m \u001b[0my_true\u001b[0m\u001b[0;34m.\u001b[0m\u001b[0mndim\u001b[0m \u001b[0;34m==\u001b[0m \u001b[0;36m1\u001b[0m\u001b[0;34m:\u001b[0m\u001b[0;34m\u001b[0m\u001b[0m\n",
      "\u001b[0;32m/usr/local/lib/python3.7/site-packages/sklearn/utils/validation.py\u001b[0m in \u001b[0;36mcheck_array\u001b[0;34m(array, accept_sparse, accept_large_sparse, dtype, order, copy, force_all_finite, ensure_2d, allow_nd, ensure_min_samples, ensure_min_features, warn_on_dtype, estimator)\u001b[0m\n\u001b[1;32m    566\u001b[0m         \u001b[0;32mif\u001b[0m \u001b[0mforce_all_finite\u001b[0m\u001b[0;34m:\u001b[0m\u001b[0;34m\u001b[0m\u001b[0m\n\u001b[1;32m    567\u001b[0m             _assert_all_finite(array,\n\u001b[0;32m--> 568\u001b[0;31m                                allow_nan=force_all_finite == 'allow-nan')\n\u001b[0m\u001b[1;32m    569\u001b[0m \u001b[0;34m\u001b[0m\u001b[0m\n\u001b[1;32m    570\u001b[0m     \u001b[0mshape_repr\u001b[0m \u001b[0;34m=\u001b[0m \u001b[0m_shape_repr\u001b[0m\u001b[0;34m(\u001b[0m\u001b[0marray\u001b[0m\u001b[0;34m.\u001b[0m\u001b[0mshape\u001b[0m\u001b[0;34m)\u001b[0m\u001b[0;34m\u001b[0m\u001b[0m\n",
      "\u001b[0;32m/usr/local/lib/python3.7/site-packages/sklearn/utils/validation.py\u001b[0m in \u001b[0;36m_assert_all_finite\u001b[0;34m(X, allow_nan)\u001b[0m\n\u001b[1;32m     54\u001b[0m                 not allow_nan and not np.isfinite(X).all()):\n\u001b[1;32m     55\u001b[0m             \u001b[0mtype_err\u001b[0m \u001b[0;34m=\u001b[0m \u001b[0;34m'infinity'\u001b[0m \u001b[0;32mif\u001b[0m \u001b[0mallow_nan\u001b[0m \u001b[0;32melse\u001b[0m \u001b[0;34m'NaN, infinity'\u001b[0m\u001b[0;34m\u001b[0m\u001b[0m\n\u001b[0;32m---> 56\u001b[0;31m             \u001b[0;32mraise\u001b[0m \u001b[0mValueError\u001b[0m\u001b[0;34m(\u001b[0m\u001b[0mmsg_err\u001b[0m\u001b[0;34m.\u001b[0m\u001b[0mformat\u001b[0m\u001b[0;34m(\u001b[0m\u001b[0mtype_err\u001b[0m\u001b[0;34m,\u001b[0m \u001b[0mX\u001b[0m\u001b[0;34m.\u001b[0m\u001b[0mdtype\u001b[0m\u001b[0;34m)\u001b[0m\u001b[0;34m)\u001b[0m\u001b[0;34m\u001b[0m\u001b[0m\n\u001b[0m\u001b[1;32m     57\u001b[0m \u001b[0;34m\u001b[0m\u001b[0m\n\u001b[1;32m     58\u001b[0m \u001b[0;34m\u001b[0m\u001b[0m\n",
      "\u001b[0;31mValueError\u001b[0m: Input contains NaN, infinity or a value too large for dtype('float64')."
     ]
    }
   ],
   "source": [
    "# AdaDelta\n",
    "# initial slope and intercept for model\n",
    "start = time.time()\n",
    "m = 0\n",
    "c = 0\n",
    "epsilon = 1e-8 # smoothing term to avoid division by zero\n",
    "gamma = 0.9\n",
    "epoch = 0\n",
    "max_epochs = 50 # no of iterations to run GD\n",
    "aggregate_loss_adadelta = []\n",
    "\n",
    "for epoch in range(max_epochs):\n",
    "    Y_pred = np.empty(len(X))\n",
    "    D_m_rms_history = 0\n",
    "    D_c_rms_history = 0\n",
    "    delta_m_rms_history = 0\n",
    "    delta_c_rms_history = 0\n",
    "    D_m_sum = 0\n",
    "    D_c_sum = 0\n",
    "    delta_m_sum = 0\n",
    "    delta_c_sum = 0\n",
    "    for i in range(len(X)):\n",
    "        Y_pred[i] = (m * X[i] + c)\n",
    "        # gradient of the cost function w.r.t to each parameter at the current value of the parameter\n",
    "        D_m = (-2/n) * ((Yn[i] - Y_pred[i]) * X[i])\n",
    "        D_c = (-2/n) * (Yn[i] - Y_pred[i])\n",
    "        # rms history of delta_w and gradient_w\n",
    "        delta_m_sum = gamma * delta_m_sum + (1 - gamma) * D_m ** 2\n",
    "        delta_c_sum = gamma * delta_c_sum + (1 - gamma) * D_c ** 2\n",
    "        delta_m_rms_history = gamma * delta_m_rms_history + (1 - gamma) * delta_m ** 2\n",
    "        delta_c_rms_history = gamma * delta_c_rms_history + (1 - gamma) * delta_c ** 2\n",
    "        # w = w + delta_w\n",
    "        delta_m = - (sqrt(delta_m_rms_history + epsilon) / sqrt(D_m_sum + epsilon)) * D_m\n",
    "        delta_c = - (sqrt(delta_c_rms_history + epsilon) / sqrt(D_c_sum + epsilon)) * D_c\n",
    "        m = m + delta_m\n",
    "        c = c + delta_c\n",
    "    loss = (1/n)* sum((Yn - Y_pred) ** 2)\n",
    "    aggregate_loss_adadelta.append(loss)\n",
    "end = time.time()\n",
    "\n",
    "# predict values\n",
    "Y_pred = m * X + c\n",
    "\n",
    "print(\"AdaDelta..\")\n",
    "print(\"Time taken: \", round(end - start, 2), \"secs\")\n",
    "print(\"R2 score: \", round(r2_score(Yn, Y_pred), 5))\n",
    "\n",
    "# loss function plot\n",
    "x_axis = np.linspace(1, epoch+1, epoch+1, endpoint=True)\n",
    "plt.semilogy(x_axis, aggregate_loss_adadelta)\n",
    "plt.xlabel('epoch')\n",
    "plt.ylabel('loss')\n",
    "print(\"Plot: \")\n",
    "plt.show()"
   ]
  },
  {
   "cell_type": "code",
   "execution_count": 7,
   "metadata": {},
   "outputs": [
    {
     "name": "stdout",
     "output_type": "stream",
     "text": [
      "ADAM..\n",
      "Time taken:  33.8 secs\n",
      "R2 score:  0.99688\n",
      "Plot: \n"
     ]
    },
    {
     "data": {
      "image/png": "[encoded data removed]",
      "text/plain": [
       "<Figure size 432x288 with 1 Axes>"
      ]
     },
     "metadata": {
      "needs_background": "light"
     },
     "output_type": "display_data"
    }
   ],
   "source": [
    "# ADAM\n",
    "# initial slope and intercept for model\n",
    "start = time.time()\n",
    "m = 0\n",
    "c = 0\n",
    "eta_m = 0.001 # initial learning rate for both parameters\n",
    "eta_c = 0.001\n",
    "beta1 = 0.9\n",
    "beta2 = 0.999\n",
    "epsilon = 1e-8 # smoothing term to avoid division by zero\n",
    "epoch = 0\n",
    "max_epochs = 200 # no of iterations to run GD\n",
    "aggregate_loss_adam = []\n",
    "\n",
    "for epoch in range(max_epochs):\n",
    "    Y_pred = np.empty(len(X))\n",
    "    D_m_history = 0\n",
    "    D_c_history = 0\n",
    "    D_m_squared_history = 0\n",
    "    D_c_squared_history = 0\n",
    "    mt_m = 0\n",
    "    vt_m = 0\n",
    "    mt_c = 0\n",
    "    vt_c = 0\n",
    "    for i in range(len(X)):\n",
    "        Y_pred[i] = (m * X[i] + c)\n",
    "        # gradient of the cost function w.r.t to each parameter at the current value of the parameter\n",
    "        D_m = (-2/n) * ((Yn[i] - Y_pred[i]) * X[i])\n",
    "        D_c = (-2/n) * (Yn[i] - Y_pred[i])        \n",
    "        D_m_squared_history = D_m ** 2\n",
    "        D_c_squared_history = D_c ** 2\n",
    "        D_m_history = D_m\n",
    "        D_c_history = D_c\n",
    "        \n",
    "        mt_m = (beta1 * mt_m) + ((1 - beta1) * D_m_history)\n",
    "        vt_m = (beta2 * vt_m) + ((1 - beta2) * D_m_squared_history)\n",
    "        mt_c = (beta1 * mt_c) + ((1 - beta1) * D_c_history)\n",
    "        vt_c = (beta2 * vt_c) + ((1 - beta2) * D_c_squared_history)\n",
    "        \n",
    "        delta_m = - (eta_m / (sqrt(vt_m) + epsilon) * mt_m)\n",
    "        delta_c = - (eta_c / (sqrt(vt_c) + epsilon) * mt_c)\n",
    "        # w = w + delta_w\n",
    "        m = m + delta_m\n",
    "        c = c + delta_c\n",
    "    loss = (1/n)* sum((Yn - Y_pred) ** 2)\n",
    "    aggregate_loss_adam.append(loss)\n",
    "end = time.time()\n",
    "\n",
    "# predict values\n",
    "Y_pred = m * X + c\n",
    "\n",
    "print(\"ADAM..\")\n",
    "print(\"Time taken: \", round(end - start, 2), \"secs\")\n",
    "print(\"R2 score: \", round(r2_score(Yn, Y_pred), 5))\n",
    "\n",
    "# loss function plot\n",
    "x_axis = np.linspace(1, epoch+1, epoch+1, endpoint=True)\n",
    "plt.semilogy(x_axis, aggregate_loss_adam)\n",
    "plt.xlabel('epoch')\n",
    "plt.ylabel('loss')\n",
    "print(\"Plot: \")\n",
    "plt.show()"
   ]
  },
  {
   "cell_type": "code",
   "execution_count": 53,
   "metadata": {},
   "outputs": [
    {
     "name": "stdout",
     "output_type": "stream",
     "text": [
      "Comparison Plot: \n"
     ]
    },
    {
     "data": {
      "image/png": "[encoded data removed]",
      "text/plain": [
       "<Figure size 432x288 with 1 Axes>"
      ]
     },
     "metadata": {
      "needs_background": "light"
     },
     "output_type": "display_data"
    }
   ],
   "source": [
    "# comparitive loss function plot\n",
    "# plotting function source: https://gluon.mxnet.io/chapter06_optimization/gd-sgd-scratch.html\n",
    "x_axis = np.linspace(1, 200, 200, endpoint=True)\n",
    "plt.semilogy(x_axis, aggregate_loss_fgd, label='Full GD')\n",
    "plt.semilogy(x_axis, aggregate_loss_sgd, label='SGD')\n",
    "plt.semilogy(x_axis, aggregate_loss_sgdm, label='SGD with momentum')\n",
    "plt.semilogy(x_axis, aggregate_loss_adagrad, label='AdaGrad')\n",
    "plt.semilogy(x_axis, aggregate_loss_rmsprop, label='RMSProp')\n",
    "plt.semilogy(x_axis, aggregate_loss_rmsprop, label='AdaDelta')\n",
    "plt.semilogy(x_axis, aggregate_loss_adam, label='ADAM')\n",
    "plt.xlabel('epoch')\n",
    "plt.ylabel('loss')\n",
    "plt.legend(loc='upper right')\n",
    "print(\"Comparison Plot: \")\n",
    "plt.show()"
   ]
  },
  {
   "cell_type": "code",
   "execution_count": 52,
   "metadata": {},
   "outputs": [
    {
     "name": "stdout",
     "output_type": "stream",
     "text": [
      "AdaDelta..\n",
      "Time taken: 27.38 secs\n",
      "R2 score: 0.99699\n",
      "Plot: \n"
     ]
    },
    {
     "data": {
      "image/png": "[encoded data removed]",
      "text/plain": [
       "<Figure size 432x288 with 1 Axes>"
      ]
     },
     "metadata": {
      "needs_background": "light"
     },
     "output_type": "display_data"
    }
   ],
   "source": [
    "print(\"AdaDelta..\")\n",
    "print(\"Time taken: 27.38 secs\")\n",
    "print(\"R2 score: 0.99699\")\n",
    "\n",
    "# loss function plot\n",
    "x_axis = np.linspace(1, epoch+1, epoch+1, endpoint=True)\n",
    "plt.semilogy(x_axis, aggregate_loss_rmsprop)\n",
    "plt.xlabel('epoch')\n",
    "plt.ylabel('loss')\n",
    "print(\"Plot: \")\n",
    "plt.show()"
   ]
  }
 ],
 "metadata": {
  "kernelspec": {
   "display_name": "Python 3",
   "language": "python",
   "name": "python3"
  },
  "language_info": {
   "codemirror_mode": {
    "name": "ipython",
    "version": 3
   },
   "file_extension": ".py",
   "mimetype": "text/x-python",
   "name": "python",
   "nbconvert_exporter": "python",
   "pygments_lexer": "ipython3",
   "version": "3.7.0"
  }
 },
 "nbformat": 4,
 "nbformat_minor": 2
}
