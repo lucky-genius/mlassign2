{
 "cells": [
  {
   "cell_type": "code",
   "execution_count": 1,
   "metadata": {},
   "outputs": [],
   "source": [
    "import time\n",
    "import numpy as np\n",
    "import matplotlib.pyplot as plt\n",
    "from sklearn.datasets import make_regression\n",
    "from sklearn.datasets import make_classification\n",
    "from sklearn.metrics import r2_score\n",
    "from scipy import linspace, polyval, sqrt, randn"
   ]
  },
  {
   "cell_type": "code",
   "execution_count": 2,
   "metadata": {},
   "outputs": [],
   "source": [
    "# sample data creation\n",
    "# source: https://github.com/tirthajyoti/PythonMachineLearning/blob/master/Linear_Regression_Methods.ipynb\n",
    "# number of points \n",
    "n = int(5000)\n",
    "X = np.linspace(-20, 20, n)\n",
    "# equation parameters\n",
    "a = 4.7; b = -10.3\n",
    "Y = polyval([a,b], X)\n",
    "# add some gaussian noise\n",
    "Yn = Y + 3 * randn(n)"
   ]
  },
  {
   "cell_type": "code",
   "execution_count": 3,
   "metadata": {},
   "outputs": [
    {
     "name": "stdout",
     "output_type": "stream",
     "text": [
      "Full Gradient Descent..\n",
      "Time taken:  0.27 secs\n",
      "No of iterations:  200\n",
      "R2 score:  0.98083\n",
      "Plot: \n"
     ]
    },
    {
     "data": {
      "image/png": "[encoded data removed]",
      "text/plain": [
       "<Figure size 432x288 with 1 Axes>"
      ]
     },
     "metadata": {
      "needs_background": "light"
     },
     "output_type": "display_data"
    }
   ],
   "source": [
    "# Full Gradient Descent\n",
    "# initial slope and intercept for model\n",
    "start = time.time()\n",
    "m = 0\n",
    "c = 0\n",
    "prev_step = 1\n",
    "# precision = 0.000001\n",
    "eta = 0.001 # learning rate\n",
    "epoch = 0\n",
    "max_epochs = 200 # no of iterations to run GD\n",
    "aggregate_loss_fgd = []\n",
    "\n",
    "# perform full gradient descent\n",
    "while epoch < max_epochs:\n",
    "# while prev_step > precision and epoch < max_epochs:\n",
    "    Y_pred = m * X + c\n",
    "    loss = (1/n)* sum((Yn - Y_pred) ** 2)\n",
    "    aggregate_loss_fgd.append(loss)\n",
    "    D_m = (-2/n) * sum((Yn - Y_pred) * X)\n",
    "    D_c = (-2/n) * sum(Yn - Y_pred)\n",
    "    prev_m = m\n",
    "    m = m - eta * D_m\n",
    "    c = c - eta * D_c\n",
    "#     prev_step = abs(m - prev_m)\n",
    "    epoch += 1\n",
    "end = time.time()\n",
    "\n",
    "# predict values\n",
    "Y_pred = m * X + c\n",
    "\n",
    "print(\"Full Gradient Descent..\")\n",
    "print(\"Time taken: \", round(end - start, 2), \"secs\")\n",
    "print(\"No of iterations: \", epoch)\n",
    "print(\"R2 score: \", round(r2_score(Yn, Y_pred), 5))\n",
    "\n",
    "# loss function plot\n",
    "x_axis = np.linspace(1, max_epochs, max_epochs, endpoint=True)\n",
    "plt.semilogy(x_axis, aggregate_loss_fgd)\n",
    "plt.xlabel('epoch')\n",
    "plt.ylabel('loss')\n",
    "print(\"Plot: \")\n",
    "plt.show()"
   ]
  },
  {
   "cell_type": "code",
   "execution_count": 4,
   "metadata": {},
   "outputs": [
    {
     "name": "stdout",
     "output_type": "stream",
     "text": [
      "Stochastic Gradient Descent..\n",
      "Time taken:  1.95 secs\n",
      "R2 score:  0.98083\n",
      "Plot: \n"
     ]
    },
    {
     "data": {
      "image/png": "[encoded data removed]",
      "text/plain": [
       "<Figure size 432x288 with 1 Axes>"
      ]
     },
     "metadata": {
      "needs_background": "light"
     },
     "output_type": "display_data"
    }
   ],
   "source": [
    "# Stochastic Gradient Descent\n",
    "# initial slope and intercept for model\n",
    "start = time.time()\n",
    "m = 0\n",
    "c = 0\n",
    "eta = 0.001 # learning rate\n",
    "epoch = 0\n",
    "max_epochs = 200 # no of iterations to run GD\n",
    "aggregate_loss_sgd = []\n",
    "\n",
    "for epoch in range(max_epochs):\n",
    "    Y_pred = np.empty(len(X))\n",
    "    for i in range(len(X)):\n",
    "        Y_pred[i] = (m * X[i] + c)\n",
    "        D_m = eta * (-2/n) * ((Yn[i] - Y_pred[i]) * X[i])\n",
    "        D_c = eta * (-2/n) * (Yn[i] - Y_pred[i])\n",
    "        m = m - D_m\n",
    "        c = c - D_c\n",
    "    loss = (1/n)* sum((Yn - Y_pred) ** 2)\n",
    "    aggregate_loss_sgd.append(loss)\n",
    "end = time.time()\n",
    "\n",
    "# predict values\n",
    "Y_pred = m * X + c\n",
    "\n",
    "print(\"Stochastic Gradient Descent..\")\n",
    "print(\"Time taken: \", round(end - start, 2), \"secs\")\n",
    "print(\"R2 score: \", round(r2_score(Yn, Y_pred), 5))\n",
    "\n",
    "# loss function plot\n",
    "x_axis = np.linspace(1, max_epochs, max_epochs, endpoint=True)\n",
    "plt.semilogy(x_axis, aggregate_loss_sgd)\n",
    "plt.xlabel('epoch')\n",
    "plt.ylabel('loss')\n",
    "print(\"Plot: \")\n",
    "plt.show()"
   ]
  },
  {
   "cell_type": "code",
   "execution_count": 5,
   "metadata": {},
   "outputs": [
    {
     "name": "stdout",
     "output_type": "stream",
     "text": [
      "SGD with momentum..\n",
      "Time taken:  2.89 secs\n",
      "R2 score:  0.98903\n",
      "Plot: \n"
     ]
    },
    {
     "data": {
      "image/png": "[encoded data removed]",
      "text/plain": [
       "<Figure size 432x288 with 1 Axes>"
      ]
     },
     "metadata": {
      "needs_background": "light"
     },
     "output_type": "display_data"
    }
   ],
   "source": [
    "# SGD with momentum\n",
    "# initial slope and intercept for model\n",
    "start = time.time()\n",
    "m = 0\n",
    "c = 0\n",
    "eta = 0.001 # learning rate\n",
    "gamma = 0.9 # momentum hyper parameter in range (0,1]\n",
    "beta = 0.9\n",
    "epoch = 0\n",
    "max_epochs = 200 # no of iterations to run GD\n",
    "aggregate_loss_sgdm = []\n",
    "\n",
    "for epoch in range(max_epochs):\n",
    "    Y_pred = np.empty(len(X))\n",
    "    prev_D_m = 0\n",
    "    prev_D_c = 0\n",
    "    for i in range(len(X)):\n",
    "        Y_pred[i] = (m * X[i] + c)\n",
    "        D_m = eta * (-2/n) * ((Yn[i] - Y_pred[i]) * X[i])\n",
    "        D_c = eta * (-2/n) * (Yn[i] - Y_pred[i])\n",
    "        m = m - (gamma * prev_D_m + D_m)\n",
    "        c = c - (gamma * prev_D_c + D_c)\n",
    "        prev_D_m = beta * prev_D_m + (1 - beta) * D_m\n",
    "        prev_D_c = beta * prev_D_c + (1 - beta) * D_c\n",
    "    loss = (1/n)* sum((Yn - Y_pred) ** 2)\n",
    "    aggregate_loss_sgdm.append(loss)\n",
    "end = time.time()\n",
    "\n",
    "# predict values\n",
    "Y_pred = m * X + c\n",
    "\n",
    "print(\"SGD with momentum..\")\n",
    "print(\"Time taken: \", round(end - start, 2), \"secs\")\n",
    "print(\"R2 score: \", round(r2_score(Yn, Y_pred), 5))\n",
    "\n",
    "# loss function plot\n",
    "x_axis = np.linspace(1, max_epochs, max_epochs, endpoint=True)\n",
    "plt.semilogy(x_axis, aggregate_loss_sgdm)\n",
    "plt.xlabel('epoch')\n",
    "plt.ylabel('loss')\n",
    "print(\"Plot: \")\n",
    "plt.show()"
   ]
  },
  {
   "cell_type": "code",
   "execution_count": 6,
   "metadata": {},
   "outputs": [
    {
     "name": "stdout",
     "output_type": "stream",
     "text": [
      "AdaGrad..\n",
      "Time taken:  27.6 secs\n",
      "R2 score:  0.99691\n",
      "Plot: \n"
     ]
    },
    {
     "data": {
      "image/png": "[encoded data removed]",
      "text/plain": [
       "<Figure size 432x288 with 1 Axes>"
      ]
     },
     "metadata": {
      "needs_background": "light"
     },
     "output_type": "display_data"
    }
   ],
   "source": [
    "# AdaGrad\n",
    "# initial slope and intercept for model\n",
    "start = time.time()\n",
    "m = 0\n",
    "c = 0\n",
    "eta_m = 0.01 # initial learning rate for both parameters\n",
    "eta_c = 0.01\n",
    "epsilon = 1e-8 # smoothing term to avoid division by zero\n",
    "epoch = 0\n",
    "max_epochs = 200 # no of iterations to run GD\n",
    "aggregate_loss_adagrad = []\n",
    "\n",
    "for epoch in range(max_epochs):\n",
    "    Y_pred = np.empty(len(X))\n",
    "    D_m_history = 0\n",
    "    D_c_history = 0\n",
    "    for i in range(len(X)):\n",
    "        Y_pred[i] = (m * X[i] + c)\n",
    "        # gradient of the cost function w.r.t to each parameter at the current value of the parameter\n",
    "        D_m = (-2/n) * ((Yn[i] - Y_pred[i]) * X[i])\n",
    "        D_c = (-2/n) * (Yn[i] - Y_pred[i])\n",
    "        D_m_history += D_m ** 2\n",
    "        D_c_history += D_c ** 2\n",
    "        # w = w + delta_w\n",
    "        delta_m = - (eta_m / (sqrt(D_m_history) + epsilon) * D_m)\n",
    "        delta_c = - (eta_c / (sqrt(D_c_history) + epsilon) * D_c)\n",
    "        m = m + delta_m\n",
    "        c = c + delta_c    \n",
    "    loss = (1/n)* sum((Yn - Y_pred) ** 2)\n",
    "    aggregate_loss_adagrad.append(loss)\n",
    "end = time.time()\n",
    "\n",
    "# predict values\n",
    "Y_pred = m * X + c\n",
    "\n",
    "print(\"AdaGrad..\")\n",
    "print(\"Time taken: \", round(end - start, 2), \"secs\")\n",
    "print(\"R2 score: \", round(r2_score(Yn, Y_pred), 5))\n",
    "\n",
    "# loss function plot\n",
    "x_axis = np.linspace(1, epoch+1, epoch+1, endpoint=True)\n",
    "plt.semilogy(x_axis, aggregate_loss_adagrad)\n",
    "plt.xlabel('epoch')\n",
    "plt.ylabel('loss')\n",
    "print(\"Plot: \")\n",
    "plt.show()"
   ]
  },
  {
   "cell_type": "code",
   "execution_count": 7,
   "metadata": {},
   "outputs": [
    {
     "name": "stdout",
     "output_type": "stream",
     "text": [
      "ADAM..\n",
      "Time taken:  33.8 secs\n",
      "R2 score:  0.99688\n",
      "Plot: \n"
     ]
    },
    {
     "data": {
      "image/png": "[encoded data removed]",
      "text/plain": [
       "<Figure size 432x288 with 1 Axes>"
      ]
     },
     "metadata": {
      "needs_background": "light"
     },
     "output_type": "display_data"
    }
   ],
   "source": [
    "# ADAM\n",
    "# initial slope and intercept for model\n",
    "start = time.time()\n",
    "m = 0\n",
    "c = 0\n",
    "eta_m = 0.001 # initial learning rate for both parameters\n",
    "eta_c = 0.001\n",
    "beta1 = 0.9\n",
    "beta2 = 0.999\n",
    "epsilon = 1e-8 # smoothing term to avoid division by zero\n",
    "epoch = 0\n",
    "max_epochs = 200 # no of iterations to run GD\n",
    "aggregate_loss_adam = []\n",
    "\n",
    "for epoch in range(max_epochs):\n",
    "    Y_pred = np.empty(len(X))\n",
    "    D_m_history = 0\n",
    "    D_c_history = 0\n",
    "    D_m_squared_history = 0\n",
    "    D_c_squared_history = 0\n",
    "    mt_m = 0\n",
    "    vt_m = 0\n",
    "    mt_c = 0\n",
    "    vt_c = 0\n",
    "    for i in range(len(X)):\n",
    "        Y_pred[i] = (m * X[i] + c)\n",
    "        # gradient of the cost function w.r.t to each parameter at the current value of the parameter\n",
    "        D_m = (-2/n) * ((Yn[i] - Y_pred[i]) * X[i])\n",
    "        D_c = (-2/n) * (Yn[i] - Y_pred[i])        \n",
    "        D_m_squared_history = D_m ** 2\n",
    "        D_c_squared_history = D_c ** 2\n",
    "        D_m_history = D_m\n",
    "        D_c_history = D_c\n",
    "        \n",
    "        mt_m = (beta1 * mt_m) + ((1 - beta1) * D_m_history)\n",
    "        vt_m = (beta2 * vt_m) + ((1 - beta2) * D_m_squared_history)\n",
    "        mt_c = (beta1 * mt_c) + ((1 - beta1) * D_c_history)\n",
    "        vt_c = (beta2 * vt_c) + ((1 - beta2) * D_c_squared_history)\n",
    "        \n",
    "        delta_m = - (eta_m / (sqrt(vt_m) + epsilon) * mt_m)\n",
    "        delta_c = - (eta_c / (sqrt(vt_c) + epsilon) * mt_c)\n",
    "        # w = w + delta_w\n",
    "        m = m + delta_m\n",
    "        c = c + delta_c\n",
    "    loss = (1/n)* sum((Yn - Y_pred) ** 2)\n",
    "    aggregate_loss_adam.append(loss)\n",
    "end = time.time()\n",
    "\n",
    "# predict values\n",
    "Y_pred = m * X + c\n",
    "\n",
    "print(\"ADAM..\")\n",
    "print(\"Time taken: \", round(end - start, 2), \"secs\")\n",
    "print(\"R2 score: \", round(r2_score(Yn, Y_pred), 5))\n",
    "\n",
    "# loss function plot\n",
    "x_axis = np.linspace(1, epoch+1, epoch+1, endpoint=True)\n",
    "plt.semilogy(x_axis, aggregate_loss_adam)\n",
    "plt.xlabel('epoch')\n",
    "plt.ylabel('loss')\n",
    "print(\"Plot: \")\n",
    "plt.show()"
   ]
  },
  {
   "cell_type": "code",
   "execution_count": 8,
   "metadata": {},
   "outputs": [
    {
     "name": "stdout",
     "output_type": "stream",
     "text": [
      "Comparison Plot: \n"
     ]
    },
    {
     "data": {
      "image/png": "[encoded data removed]",
      "text/plain": [
       "<Figure size 432x288 with 1 Axes>"
      ]
     },
     "metadata": {
      "needs_background": "light"
     },
     "output_type": "display_data"
    }
   ],
   "source": [
    "# comparitive loss function plot\n",
    "# plotting function source: https://gluon.mxnet.io/chapter06_optimization/gd-sgd-scratch.html\n",
    "x_axis = np.linspace(1, 200, 200, endpoint=True)\n",
    "plt.semilogy(x_axis, aggregate_loss_fgd, label='Full GD')\n",
    "plt.semilogy(x_axis, aggregate_loss_sgd, label='SGD')\n",
    "plt.semilogy(x_axis, aggregate_loss_sgdm, label='SGD with momentum')\n",
    "plt.semilogy(x_axis, aggregate_loss_adagrad, label='AdaGrad')\n",
    "plt.semilogy(x_axis, aggregate_loss_adam, label='ADAM')\n",
    "plt.xlabel('epoch')\n",
    "plt.ylabel('loss')\n",
    "plt.legend(loc='upper right')\n",
    "print(\"Comparison Plot: \")\n",
    "plt.show()"
   ]
  }
 ],
 "metadata": {
  "kernelspec": {
   "display_name": "Python 3",
   "language": "python",
   "name": "python3"
  },
  "language_info": {
   "codemirror_mode": {
    "name": "ipython",
    "version": 3
   },
   "file_extension": ".py",
   "mimetype": "text/x-python",
   "name": "python",
   "nbconvert_exporter": "python",
   "pygments_lexer": "ipython3",
   "version": "3.7.0"
  }
 },
 "nbformat": 4,
 "nbformat_minor": 2
}
