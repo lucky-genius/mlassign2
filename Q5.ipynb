{
 "cells": [
  {
   "cell_type": "code",
   "execution_count": 1,
   "metadata": {},
   "outputs": [],
   "source": [
    "import numpy as np\n",
    "import time\n",
    "from astropy.io import ascii\n",
    "from sklearn.metrics.pairwise import cosine_similarity\n",
    "from scipy import sparse"
   ]
  },
  {
   "cell_type": "code",
   "execution_count": 2,
   "metadata": {},
   "outputs": [
    {
     "name": "stdout",
     "output_type": "stream",
     "text": [
      "the process took 2.51 s\n"
     ]
    }
   ],
   "source": [
    "def make_R(filename, col_user, col_item, col_rating, fraction = 0.8):\n",
    "    start_time = time.time()\n",
    "    '''create R matrix from a file that contains a table of user IDs, item IDs and ratings\n",
    "    parameters:\n",
    "        filename: str; the filename of the table\n",
    "        col_user: str; the column name of user IDs\n",
    "        col_item: str; the column name of item IDs\n",
    "        col_rating: str; the column name of the ratings\n",
    "        fraction: float; the fraction of data to be used for training\n",
    "    returns:\n",
    "        rTrain: 2D numpy array; training R matrix in with r_{i, j} is the rating that user i given to item j\n",
    "        rTest: 2D numpy array; testing R matrix in with r_{i, j} is the rating that user i given to item j'''\n",
    "    t = ascii.read(filename)\n",
    "    nData = np.size(t) # total number of data points(ratings)\n",
    "    nTrain = int(np.rint(fraction * nData)) # number of training data\n",
    "    nUser = np.max(t[col_user]) # total number of users\n",
    "    nitem = np.max(t[col_item]) # total number of items\n",
    "    \n",
    "    idxData = np.arange(nData) # an array of idx of data\n",
    "    np.random.shuffle(idxData) # randomize idx\n",
    "    idxTrain, idxTest = idxData[:nTrain], idxData[nTrain:]\n",
    "    \n",
    "    idxUser = t.index_column(col_user)\n",
    "    idxItem = t.index_column(col_item)\n",
    "    idxRating = t.index_column(col_rating)\n",
    "    \n",
    "    rTrain = np.zeros(shape = (nUser, nitem))\n",
    "    rTest = np.zeros(shape = (nUser, nitem))\n",
    "    for nrow in idxTrain:\n",
    "        i = t[nrow][idxUser] - 1 # the userId\n",
    "        j = t[nrow][idxItem] - 1 # the itemId\n",
    "        rTrain[i][j] = t[nrow][idxRating] # the rating\n",
    "    \n",
    "    for nrow in idxTest:\n",
    "        i = t[nrow][idxUser] - 1 # the userId\n",
    "        j = t[nrow][idxItem] - 1 # the itemId\n",
    "        rTest[i][j] = t[nrow][idxRating] # the rating\n",
    "    \n",
    "    print('the process took %.2f s' % (time.time() - start_time))\n",
    "    return rTrain, rTest\n",
    "\n",
    "R_train, R_test = make_R(filename = 'movie_ratings.csv', col_user = 'userId', col_item = 'movieId', col_rating = 'rating')"
   ]
  },
  {
   "cell_type": "code",
   "execution_count": 10,
   "metadata": {},
   "outputs": [],
   "source": [
    "class matrix_factorization():\n",
    "\n",
    "    def __init__(self, R_train, R_test):\n",
    "        '''R_train: 2D numpy array; R matrix in with r_{i, j} is the rating that user i given to item j'''\n",
    "        self.R_train = R_train\n",
    "        self.R_test = R_test\n",
    "        self.nUser, self.nItem = R_train.shape\n",
    "        self.result = None\n",
    "\n",
    "    def train(self, k, alpha, _lambda, iterations):\n",
    "        '''perform matrix factorization to predict empty entries in a matrix.\n",
    "        parameters:\n",
    "            k: int; dimensions of u and v vector\n",
    "            alpha: float; learning rate\n",
    "            _lambda: float; regularization parameter'''\n",
    "        self.k = k\n",
    "        self.alpha = alpha\n",
    "        self.iterations = iterations\n",
    "        self._lambda = _lambda\n",
    "        \n",
    "        def update():\n",
    "            for i, j, r in self.samples:\n",
    "                # Computer prediction and error\n",
    "                if _lambda is not None:\n",
    "                    prediction = self.b + self.b_u[i] + self.b_i[j] + self.U[i, :].dot(self.V[j, :].T)\n",
    "                    e = (r - prediction)\n",
    "                    # Update biases\n",
    "                    self.b_u[i] += self.alpha * (e - self._lambda * self.b_u[i])\n",
    "                    self.b_i[j] += self.alpha * (e - self._lambda * self.b_i[j])\n",
    "\n",
    "                    # Update user and item latent feature matrices\n",
    "                    self.U[i, :] += self.alpha * (e * self.V[j, :] - self._lambda * self.U[i,:])\n",
    "                    self.V[j, :] += self.alpha * (e * self.U[i, :] - self._lambda * self.V[j,:])\n",
    "                else:\n",
    "                    prediction = self.U[i, :].dot(self.V[j, :].T)\n",
    "                    e = (r - prediction)\n",
    "                    # Update user and item latent feature matrices\n",
    "                    self.U[i, :] += self.alpha * e * self.V[j, :]\n",
    "                    self.V[j, :] += self.alpha * e * self.U[i, :]\n",
    "                    \n",
    "        start_time = time.time()\n",
    "        # Initialize user and item latent feature matrice\n",
    "        self.U = np.random.normal(scale = 1./self.k, size = (self.nUser, self.k))\n",
    "        self.V = np.random.normal(scale = 1./self.k, size = (self.nItem, self.k))\n",
    "        \n",
    "        if _lambda is not None:\n",
    "            # Initialize the biases\n",
    "            self.b_u = np.zeros(self.nUser)\n",
    "            self.b_i = np.zeros(self.nItem)\n",
    "            self.b = np.mean(self.R_train[np.where(self.R_train != 0)])\n",
    "\n",
    "        # Create a list of training samples\n",
    "        self.samples = [\n",
    "            (i, j, self.R_train[i, j])\n",
    "            for i in range(self.nUser)\n",
    "            for j in range(self.nItem)\n",
    "            if self.R_train[i, j] > 0\n",
    "        ]\n",
    "\n",
    "        # Perform stochastic gradient descent for number of iterations\n",
    "        for i in range(self.iterations):\n",
    "            np.random.shuffle(self.samples)\n",
    "            update()\n",
    "                \n",
    "        if _lambda is not None:\n",
    "            self.result = self.b + self.b_u[:,np.newaxis] + self.b_i[np.newaxis:,] + self.U.dot(self.V.T)\n",
    "        else:\n",
    "            self.result = self.U.dot(self.V.T)\n",
    "        \n",
    "        sigma_train, sigma_test = self.sigma()\n",
    "        print('training is complete! it took %.2f s' % (time.time() - start_time))\n",
    "        print(\"train error = %.4f; test error = %.4f\" % (sigma_train, sigma_test))\n",
    "        return self.result\n",
    "    \n",
    "    def sigma(self):\n",
    "        '''Compute the total mean square error for training and testing data'''\n",
    "        iTrain, jTrain = self.R_train.nonzero()\n",
    "        iTest, jTest = self.R_test.nonzero()\n",
    "        trainError, testError = 0, 0\n",
    "        trainCount, testCount = 0, 0\n",
    "        for i, j in zip(iTrain, jTrain):\n",
    "            trainError += (self.R_train[i, j] - self.result[i, j])**2\n",
    "            trainCount += 1\n",
    "            \n",
    "        for i, j in zip(iTest, jTest):\n",
    "            testError += (self.R_test[i, j] - self.result[i, j])**2\n",
    "            testCount += 1\n",
    "        \n",
    "        trainSigma = np.sqrt(trainError)/trainCount\n",
    "        testSigma = np.sqrt(testError)/testCount\n",
    "        return trainSigma, testSigma"
   ]
  },
  {
   "cell_type": "code",
   "execution_count": 14,
   "metadata": {},
   "outputs": [],
   "source": [
    "class correlation_similarity():\n",
    "    def __init__(self, R_train, R_test):\n",
    "        '''initialize\n",
    "        R_train: 2D numpy array; R matrix in with r_{i, j} is the rating that user i given to item j\n",
    "        R_test: 2D numpy array; R matrix in with r_{i, j} is the rating that user i given to item j'''\n",
    "        self.R_train = R_train\n",
    "        self.R_test = R_test\n",
    "        self.nUser, self.nItem = R_train.shape\n",
    "        self.result = None\n",
    "        self.S = cosine_similarity(sparse.csr_matrix(R_train)) # similarity \n",
    "        self.avg = np.mean(R_train)\n",
    "        \n",
    "    def predict(self, i, j, k):\n",
    "        '''predict the rating for user i of item j\n",
    "        i: int; the user number\n",
    "        j: int; the item number\n",
    "        k: int; use k nearest neighbors'''\n",
    "        if self.R_train[i][j] != 0:\n",
    "            return self.R_train[i][j]\n",
    "        else:\n",
    "            idxS_user = np.argsort(self.S[i])\n",
    "            idx_n = np.where(self.R_train[:, j] > 0)[0]\n",
    "\n",
    "            if np.size(idx_n) < k:\n",
    "                if np.size(idx_n) == 0: \n",
    "#                     idxS_item = np.argsort(self.S_item[j]) # similarity between items\n",
    "                    v_j = self.R_train[:, j]\n",
    "                    prediction = v_j[v_j != 0].mean()\n",
    "                else:\n",
    "                    prediction = self.R_train[idx_n, j].mean()\n",
    "            else:\n",
    "                idx_knn = idxS_user[np.isin(idxS_user, idx_n, assume_unique = True)][-k - 1:-1] # idxS with ratings\n",
    "                prediction = self.R_train[idx_knn, j].mean()\n",
    "            if np.isnan(prediction):\n",
    "                prediction = self.avg\n",
    "            return prediction\n",
    "\n",
    "    def sigma2(self, i, j, k):\n",
    "        if self.R_test[i][j] == 0:\n",
    "            print('No true value!')\n",
    "            return None\n",
    "        else:\n",
    "            r_hat = self.predict(i, j, k)\n",
    "            return (self.R_test[i][j] - r_hat)**2\n",
    "        \n",
    "    def test(self, k):\n",
    "        start_time = time.time()\n",
    "        iTest, jTest = self.R_test.nonzero()\n",
    "        totalError = 0\n",
    "        testCount = 0\n",
    "        for i, j in zip(iTest, jTest):\n",
    "            totalError += self.sigma2(i, j, k)\n",
    "            testCount += 1\n",
    "        sigma = np.sqrt(totalError)/testCount         \n",
    "        print('testing is complete! it took %.2f s' % (time.time() - start_time))\n",
    "        print('the test error is %.4f' % sigma)\n",
    "        return sigma"
   ]
  },
  {
   "cell_type": "code",
   "execution_count": 15,
   "metadata": {},
   "outputs": [
    {
     "name": "stderr",
     "output_type": "stream",
     "text": [
      "/home/bluesky/.local/lib/python3.6/site-packages/ipykernel_launcher.py:28: RuntimeWarning: Mean of empty slice.\n",
      "/home/bluesky/.local/lib/python3.6/site-packages/numpy/core/_methods.py:85: RuntimeWarning: invalid value encountered in double_scalars\n",
      "  ret = ret.dtype.type(ret / rcount)\n"
     ]
    },
    {
     "name": "stdout",
     "output_type": "stream",
     "text": [
      "testing is complete! it took 1.83 s\n",
      "the test error is 0.0087\n"
     ]
    },
    {
     "data": {
      "text/plain": [
       "0.008653818512465552"
      ]
     },
     "execution_count": 15,
     "metadata": {},
     "output_type": "execute_result"
    }
   ],
   "source": [
    "rs = correlation_similarity(R_train, R_test)\n",
    "rs.test(3)"
   ]
  },
  {
   "cell_type": "code",
   "execution_count": null,
   "metadata": {},
   "outputs": [],
   "source": [
    "a = np.nan\n",
    "a == np.nan"
   ]
  },
  {
   "cell_type": "code",
   "execution_count": 11,
   "metadata": {},
   "outputs": [
    {
     "name": "stdout",
     "output_type": "stream",
     "text": [
      "training is complete! it took 46.47 s\n",
      "train error = 0.0025; test error = 0.0060\n"
     ]
    },
    {
     "data": {
      "text/plain": [
       "array([[4.61381331, 4.16390999, 3.96063549, ..., 4.18826672, 4.18621446,\n",
       "        4.30223442],\n",
       "       [3.91904793, 3.52800818, 3.25229948, ..., 3.52446749, 3.52422589,\n",
       "        3.63747933],\n",
       "       [2.523302  , 2.27027375, 1.91053794, ..., 2.21544257, 2.21769012,\n",
       "        2.32679888],\n",
       "       ...,\n",
       "       [2.69961665, 2.57909417, 2.34110182, ..., 3.09949476, 3.10133321,\n",
       "        3.1952866 ],\n",
       "       [3.63104007, 3.24922679, 2.97311836, ..., 3.25355858, 3.25410396,\n",
       "        3.36804408],\n",
       "       [4.24056327, 3.38398571, 3.3739145 , ..., 3.52643077, 3.52222999,\n",
       "        3.66044745]])"
      ]
     },
     "execution_count": 11,
     "metadata": {},
     "output_type": "execute_result"
    }
   ],
   "source": [
    "mf = matrix_factorization(R_train, R_test)\n",
    "# mf.correlation_similarity(3)\n",
    "mf.train(k = 300, alpha = 0.01, _lambda = 0.01, iterations = 20)"
   ]
  },
  {
   "cell_type": "code",
   "execution_count": null,
   "metadata": {},
   "outputs": [],
   "source": []
  },
  {
   "cell_type": "code",
   "execution_count": null,
   "metadata": {},
   "outputs": [],
   "source": [
    "mf.mse()"
   ]
  },
  {
   "cell_type": "code",
   "execution_count": null,
   "metadata": {},
   "outputs": [],
   "source": []
  },
  {
   "cell_type": "code",
   "execution_count": null,
   "metadata": {},
   "outputs": [],
   "source": [
    "tR = np.array([\n",
    "    [5, 3, 0, 1, 1],\n",
    "    [4, 0, 0, 1, 1],\n",
    "    [1, 1, 0, 5, 4],\n",
    "    [1, 0, 0, 4, 5],\n",
    "    [0, 1, 5, 4, 4],\n",
    "#     [0, 1, 5, 4, 4],\n",
    "])"
   ]
  },
  {
   "cell_type": "code",
   "execution_count": null,
   "metadata": {},
   "outputs": [],
   "source": [
    "cosine_similarity(tR)"
   ]
  },
  {
   "cell_type": "code",
   "execution_count": null,
   "metadata": {},
   "outputs": [],
   "source": [
    "cosine_similarity(tR.T)"
   ]
  },
  {
   "cell_type": "code",
   "execution_count": null,
   "metadata": {},
   "outputs": [],
   "source": [
    "1 - spatial.distance.cosine(tR[0], tR[5])"
   ]
  },
  {
   "cell_type": "code",
   "execution_count": null,
   "metadata": {},
   "outputs": [],
   "source": [
    "correlation_similarity(tR, 3)"
   ]
  },
  {
   "cell_type": "code",
   "execution_count": null,
   "metadata": {},
   "outputs": [],
   "source": [
    "tR_sparse = sparse.csr_matrix(tR)"
   ]
  },
  {
   "cell_type": "code",
   "execution_count": null,
   "metadata": {},
   "outputs": [],
   "source": [
    "h = np.array([0, 1, 2])\n",
    "tR[4][h]"
   ]
  },
  {
   "cell_type": "code",
   "execution_count": null,
   "metadata": {},
   "outputs": [],
   "source": [
    "similarities"
   ]
  },
  {
   "cell_type": "code",
   "execution_count": null,
   "metadata": {},
   "outputs": [],
   "source": [
    "from scipy import spatial"
   ]
  },
  {
   "cell_type": "code",
   "execution_count": null,
   "metadata": {},
   "outputs": [],
   "source": [
    "1 - spatial.distance.cosine(tR[0], tR[2])"
   ]
  },
  {
   "cell_type": "code",
   "execution_count": null,
   "metadata": {},
   "outputs": [],
   "source": [
    "R_train"
   ]
  },
  {
   "cell_type": "code",
   "execution_count": null,
   "metadata": {},
   "outputs": [],
   "source": [
    "np.arange(100)"
   ]
  },
  {
   "cell_type": "code",
   "execution_count": null,
   "metadata": {},
   "outputs": [],
   "source": [
    "x = np.arange(100)\n",
    "np.random.shuffle(x)\n",
    "training, test = x[:80], x[80:]"
   ]
  },
  {
   "cell_type": "code",
   "execution_count": null,
   "metadata": {},
   "outputs": [],
   "source": [
    "training"
   ]
  },
  {
   "cell_type": "code",
   "execution_count": null,
   "metadata": {},
   "outputs": [],
   "source": [
    "def mock_R(nU, nI, f = 0.2, ft = 0.8):\n",
    "    R = np.zeros(shape = (nU, nI))\n",
    "    n = int(np.rint(f * nU * nI))\n",
    "    idxU = np.random.choice(np.arange(nU), size = n)\n",
    "    idxI = np.random.choice(np.arange(nI), size = n)\n",
    "    for x, y in zip(idxU, idxI):\n",
    "        R[x][y] = np.random.randint(low = 1, high = 10)\n",
    "    return R"
   ]
  },
  {
   "cell_type": "code",
   "execution_count": null,
   "metadata": {},
   "outputs": [],
   "source": [
    "mR = mock_R(40, 50)\n",
    "mR"
   ]
  },
  {
   "cell_type": "code",
   "execution_count": null,
   "metadata": {},
   "outputs": [],
   "source": [
    "mmR = recommendation_system(mR, mR)"
   ]
  },
  {
   "cell_type": "code",
   "execution_count": null,
   "metadata": {},
   "outputs": [],
   "source": [
    "mmR.matrix_factorization(k = 300, alpha = 0.01, _lambda = 0.01, iterations = 20)"
   ]
  },
  {
   "cell_type": "code",
   "execution_count": null,
   "metadata": {},
   "outputs": [],
   "source": []
  }
 ],
 "metadata": {
  "kernelspec": {
   "display_name": "Python 3",
   "language": "python",
   "name": "python3"
  },
  "language_info": {
   "codemirror_mode": {
    "name": "ipython",
    "version": 3
   },
   "file_extension": ".py",
   "mimetype": "text/x-python",
   "name": "python",
   "nbconvert_exporter": "python",
   "pygments_lexer": "ipython3",
   "version": "3.6.6"
  }
 },
 "nbformat": 4,
 "nbformat_minor": 2
}
