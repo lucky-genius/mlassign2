{
 "cells": [
  {
   "cell_type": "code",
   "execution_count": 1,
   "metadata": {},
   "outputs": [],
   "source": [
    "import numpy as np\n",
    "import glob, time\n",
    "from astropy.table import Table\n",
    "from astropy.io import ascii"
   ]
  },
  {
   "cell_type": "code",
   "execution_count": 121,
   "metadata": {},
   "outputs": [
    {
     "data": {
      "text/plain": [
       "['Column',\n",
       " 'ColumnClass',\n",
       " 'MaskedColumn',\n",
       " 'Row',\n",
       " 'TableColumns',\n",
       " 'TableFormatter',\n",
       " '__array__',\n",
       " '__bytes__',\n",
       " '__class__',\n",
       " '__copy__',\n",
       " '__deepcopy__',\n",
       " '__delattr__',\n",
       " '__delitem__',\n",
       " '__dict__',\n",
       " '__dir__',\n",
       " '__doc__',\n",
       " '__eq__',\n",
       " '__format__',\n",
       " '__ge__',\n",
       " '__getattribute__',\n",
       " '__getitem__',\n",
       " '__getstate__',\n",
       " '__gt__',\n",
       " '__hash__',\n",
       " '__init__',\n",
       " '__init_subclass__',\n",
       " '__le__',\n",
       " '__len__',\n",
       " '__lt__',\n",
       " '__module__',\n",
       " '__ne__',\n",
       " '__new__',\n",
       " '__reduce__',\n",
       " '__reduce_ex__',\n",
       " '__repr__',\n",
       " '__setattr__',\n",
       " '__setitem__',\n",
       " '__setstate__',\n",
       " '__sizeof__',\n",
       " '__str__',\n",
       " '__subclasshook__',\n",
       " '__weakref__',\n",
       " '_add_as_mixin_column',\n",
       " '_base_repr_',\n",
       " '_check_names_dtype',\n",
       " '_convert_col_for_table',\n",
       " '_convert_string_dtype',\n",
       " '_init_from_cols',\n",
       " '_init_from_dict',\n",
       " '_init_from_list',\n",
       " '_init_from_list_of_dicts',\n",
       " '_init_from_ndarray',\n",
       " '_init_from_table',\n",
       " '_ipython_key_completions_',\n",
       " '_is_list_or_tuple_of_str',\n",
       " '_make_index_row_display_table',\n",
       " '_make_table_from_cols',\n",
       " '_mask',\n",
       " '_new_from_slice',\n",
       " '_replace_cols',\n",
       " '_replace_column_warnings',\n",
       " '_repr_html_',\n",
       " '_set_masked',\n",
       " '_set_masked_from_cols',\n",
       " '_set_row',\n",
       " 'add_column',\n",
       " 'add_columns',\n",
       " 'add_index',\n",
       " 'add_row',\n",
       " 'argsort',\n",
       " 'as_array',\n",
       " 'colnames',\n",
       " 'convert_bytestring_to_unicode',\n",
       " 'convert_unicode_to_bytestring',\n",
       " 'copy',\n",
       " 'dtype',\n",
       " 'field',\n",
       " 'filled',\n",
       " 'from_pandas',\n",
       " 'group_by',\n",
       " 'groups',\n",
       " 'has_mixin_columns',\n",
       " 'iloc',\n",
       " 'index_column',\n",
       " 'index_mode',\n",
       " 'indices',\n",
       " 'info',\n",
       " 'insert_row',\n",
       " 'itercols',\n",
       " 'keep_columns',\n",
       " 'keys',\n",
       " 'loc',\n",
       " 'loc_indices',\n",
       " 'mask',\n",
       " 'masked',\n",
       " 'meta',\n",
       " 'more',\n",
       " 'pformat',\n",
       " 'pprint',\n",
       " 'read',\n",
       " 'remove_column',\n",
       " 'remove_columns',\n",
       " 'remove_indices',\n",
       " 'remove_row',\n",
       " 'remove_rows',\n",
       " 'rename_column',\n",
       " 'replace_column',\n",
       " 'reverse',\n",
       " 'show_in_browser',\n",
       " 'show_in_notebook',\n",
       " 'sort',\n",
       " 'to_pandas',\n",
       " 'write']"
      ]
     },
     "execution_count": 121,
     "metadata": {},
     "output_type": "execute_result"
    }
   ],
   "source": [
    "dir(Table)"
   ]
  },
  {
   "cell_type": "code",
   "execution_count": null,
   "metadata": {},
   "outputs": [],
   "source": [
    "help(Table.)"
   ]
  },
  {
   "cell_type": "code",
   "execution_count": 144,
   "metadata": {},
   "outputs": [
    {
     "name": "stdout",
     "output_type": "stream",
     "text": [
      "80669\n"
     ]
    }
   ],
   "source": [
    "def make_R(filename, col_user, col_item, col_rating, fraction = 0.8):\n",
    "    '''create R matrix from a file that contains a table of user IDs, item IDs and ratings\n",
    "    parameters:\n",
    "        filename: str; the filename of the table\n",
    "        col_user: str; the column name of user IDs\n",
    "        col_item: str; the column name of item IDs\n",
    "        col_rating: str; the column name of the ratings\n",
    "        fraction: float; the fraction of data to be used for training\n",
    "    returns:\n",
    "        R: 2D numpy array; R matrix in with r_{i, j} is the rating that user i given to item j'''\n",
    "    t = ascii.read(filename)\n",
    "    nData = np.size(t) # total number of data points(ratings)\n",
    "    nUser = np.max(t[col_user]) # total number of users\n",
    "    nitem = np.max(t[col_item]) # total number of items\n",
    "    \n",
    "    idxData = np.arange(nData) # an array of idx of data randomized\n",
    "    np.random.shuffle(idxData)\n",
    "    \n",
    "    nTrain = int(np.rint(fraction * nData)) # number of training data\n",
    "    print(nTrain)\n",
    "    idxTrain, idxTest = idxData[:nTrain], idxData[nTrain:]\n",
    "    \n",
    "    idxUser = t.index_column(col_user)\n",
    "    idxItem = t.index_column(col_item)\n",
    "    idxRating = t.index_column(col_rating)\n",
    "    \n",
    "    rTrain = np.zeros(shape = (nUser, nitem))\n",
    "    rTest = np.zeros(shape = (nUser, nitem))\n",
    "    for nrow in idxTrain:\n",
    "        i = t[nrow][idxUser] - 1 # the userId\n",
    "        j = t[nrow][idxItem] - 1 # the itemId\n",
    "        rTrain[i][j] = t[nrow][idxRating] # the rating\n",
    "    \n",
    "    for nrow in idxTest:\n",
    "        i = t[nrow][idxUser] - 1 # the userId\n",
    "        j = t[nrow][idxItem] - 1 # the itemId\n",
    "        rTest[i][j] = t[nrow][idxRating] # the rating\n",
    "    \n",
    "    return rTrain, rTest\n",
    "\n",
    "R_train, R_test = make_R(filename = 'movie_ratings.csv', col_user = 'userId', col_item = 'movieId', col_rating = 'rating')"
   ]
  },
  {
   "cell_type": "code",
   "execution_count": 158,
   "metadata": {},
   "outputs": [],
   "source": [
    "class recommendation_system():\n",
    "\n",
    "    def __init__(self, R_train, R_test, k, alpha, _lambda, iterations):\n",
    "        \"\"\"\n",
    "        Perform matrix factorization to predict empty\n",
    "        entries in a matrix.\n",
    "\n",
    "        parameters:\n",
    "            R: 2D numpy array; R matrix in with r_{i, j} is the rating that user i given to item j\n",
    "            k: int; dimensions of u and v vector\n",
    "            alpha (float) : learning rate\n",
    "            _lambda (float)  : regularization parameter\n",
    "        \"\"\"\n",
    "\n",
    "        self.R_train = R_train\n",
    "        self.R_test = R_test\n",
    "        self.num_users, self.num_items = R_train.shape\n",
    "        self.k = k\n",
    "        self.alpha = alpha\n",
    "        self.iterations = iterations\n",
    "        self._lambda = _lambda\n",
    "\n",
    "    def train(self):\n",
    "        start_time = time.time()\n",
    "        # Initialize user and item latent feature matrice\n",
    "        self.U = np.random.normal(scale = 1./self.k, size = (self.num_users, self.k))\n",
    "        self.V = np.random.normal(scale = 1./self.k, size = (self.num_items, self.k))\n",
    "        \n",
    "        if self.regularization() == True:\n",
    "            # Initialize the biases\n",
    "            self.b_u = np.zeros(self.num_users)\n",
    "            self.b_i = np.zeros(self.num_items)\n",
    "            self.b = np.mean(self.R_train[np.where(self.R_train != 0)])\n",
    "\n",
    "        # Create a list of training samples\n",
    "        self.samples = [\n",
    "            (i, j, self.R_train[i, j])\n",
    "            for i in range(self.num_users)\n",
    "            for j in range(self.num_items)\n",
    "            if self.R_train[i, j] > 0\n",
    "        ]\n",
    "\n",
    "        # Perform stochastic gradient descent for number of iterations\n",
    "        training_process = []\n",
    "        for i in range(self.iterations):\n",
    "            np.random.shuffle(self.samples)\n",
    "            self.sgd()\n",
    "            mse_train, mse_test = self.mse()\n",
    "            training_process.append((i, mse_train, mse_test))\n",
    "            if (i + 1) % 10 == 0:\n",
    "                print(\"Iteration: %d ; train error = %.4f; test error = %.4f\" % (i + 1, mse_train, mse_test))\n",
    "                \n",
    "        print('training is complete! it took %.2f s' % (time.time() - start_time))\n",
    "        return training_process\n",
    "    \n",
    "    def regularization(self):\n",
    "        '''If we want to regularize the result'''\n",
    "        return False if self._lambda is None else True\n",
    "\n",
    "    def mse(self):\n",
    "        \"\"\"Compute the total mean square error for training and testing data\n",
    "        \"\"\"\n",
    "        xTrain, yTrain = self.R_train.nonzero()\n",
    "        xTest, yTest = self.R_test.nonzero()\n",
    "        predicted = self.full_matrix()\n",
    "        trainError, testError = 0, 0\n",
    "        for x, y in zip(xTrain, yTrain):\n",
    "            trainError += pow(self.R_train[x, y] - predicted[x, y], 2)\n",
    "            \n",
    "        for x, y in zip(xTest, yTest):\n",
    "            testError += pow(self.R_test[x, y] - predicted[x, y], 2)\n",
    "            \n",
    "        return np.sqrt(trainError), np.sqrt(testError)\n",
    "\n",
    "    def sgd(self):\n",
    "        \"\"\"\n",
    "        Perform stochastic graident descent\n",
    "        \"\"\"\n",
    "        for i, j, r in self.samples:\n",
    "            # Computer prediction and error\n",
    "            prediction = self.get_rating(i, j)\n",
    "            e = (r - prediction)\n",
    "            \n",
    "            if self.regularization() == True:\n",
    "                # Update biases\n",
    "                self.b_u[i] += self.alpha * (e - self._lambda * self.b_u[i])\n",
    "                self.b_i[j] += self.alpha * (e - self._lambda * self.b_i[j])\n",
    "\n",
    "                # Update user and item latent feature matrices\n",
    "                self.U[i, :] += self.alpha * (e * self.V[j, :] - self._lambda * self.U[i,:])\n",
    "                self.V[j, :] += self.alpha * (e * self.U[i, :] - self._lambda * self.V[j,:])\n",
    "            else:\n",
    "                # Update user and item latent feature matrices\n",
    "                self.U[i, :] += self.alpha * e * self.V[j, :]\n",
    "                self.V[j, :] += self.alpha * e * self.U[i, :]\n",
    "\n",
    "    def get_rating(self, i, j):\n",
    "        \"\"\"\n",
    "        Get the predicted rating of user i and item j\n",
    "        \"\"\"\n",
    "        if self.regularization() == True:\n",
    "            prediction = self.b + self.b_u[i] + self.b_i[j] + self.U[i, :].dot(self.V[j, :].T)\n",
    "        else:\n",
    "            prediction = self.U[i, :].dot(self.V[j, :].T)\n",
    "        return prediction\n",
    "\n",
    "    def full_matrix(self):\n",
    "        \"\"\"\n",
    "        Computer the full matrix using the resultant biases, P and Q\n",
    "        \"\"\"\n",
    "        if self.regularization() == True:\n",
    "            return self.b + self.b_u[:,np.newaxis] + self.b_i[np.newaxis:,] + self.U.dot(self.V.T)\n",
    "        else:\n",
    "            return self.U.dot(self.V.T)"
   ]
  },
  {
   "cell_type": "code",
   "execution_count": 159,
   "metadata": {},
   "outputs": [],
   "source": [
    "mf = recommendation_system(R_train, R_test, k = 300, alpha = 0.01, _lambda = 0.01, iterations = 20)"
   ]
  },
  {
   "cell_type": "code",
   "execution_count": 160,
   "metadata": {},
   "outputs": [
    {
     "name": "stdout",
     "output_type": "stream",
     "text": [
      "Iteration: 10 ; train error = 234.1607; test error = 123.6600\n",
      "Iteration: 20 ; train error = 204.3388; test error = 121.2744\n",
      "training is complete! it took 84.85 s\n"
     ]
    },
    {
     "data": {
      "text/plain": [
       "[(0, 255.59846965311002, 128.98801979928677),\n",
       " (1, 248.8114651800095, 126.71255506648048),\n",
       " (2, 244.9808560648217, 125.66284881311068),\n",
       " (3, 242.35774602561017, 124.94917838560346),\n",
       " (4, 240.36543795221752, 124.58855408294613),\n",
       " (5, 238.8007567864682, 124.24547634473196),\n",
       " (6, 237.4844051635022, 124.07441640995648),\n",
       " (7, 236.3549265639069, 124.00940503638874),\n",
       " (8, 235.12780381628582, 123.67416672524146),\n",
       " (9, 234.16073934712588, 123.66000614613448),\n",
       " (10, 233.04434204354425, 123.50254277746828),\n",
       " (11, 231.76815458468883, 123.31642624280254),\n",
       " (12, 230.281901586051, 123.26295709703764),\n",
       " (13, 228.36892894489145, 123.0820193302953),\n",
       " (14, 225.99939008326643, 122.84160629526978),\n",
       " (15, 222.92519121849998, 122.62066651409545),\n",
       " (16, 219.1409952083324, 122.29743869753929),\n",
       " (17, 214.82481657914974, 122.01367702519659),\n",
       " (18, 209.8210575306947, 121.568167213406),\n",
       " (19, 204.33878936348006, 121.27435720631227)]"
      ]
     },
     "execution_count": 160,
     "metadata": {},
     "output_type": "execute_result"
    }
   ],
   "source": [
    "mf.train()"
   ]
  },
  {
   "cell_type": "code",
   "execution_count": 90,
   "metadata": {},
   "outputs": [
    {
     "data": {
      "text/plain": [
       "array([[4.56763753, 4.20996919, 3.98995323, ..., 4.16250062, 4.16325625,\n",
       "        4.27553269],\n",
       "       [3.91985196, 3.55119324, 3.27110652, ..., 3.49681   , 3.49725763,\n",
       "        3.60714968],\n",
       "       [2.65044326, 2.4413029 , 2.03177587, ..., 2.35160182, 2.35253557,\n",
       "        2.45289135],\n",
       "       ...,\n",
       "       [2.4322246 , 2.4558676 , 2.43950429, ..., 3.21243986, 3.20568998,\n",
       "        3.31120859],\n",
       "       [3.58993069, 3.23484471, 2.98374352, ..., 3.2111378 , 3.21128943,\n",
       "        3.32319877],\n",
       "       [4.45860103, 3.38899298, 3.40442967, ..., 3.52596812, 3.52582102,\n",
       "        3.66390808]])"
      ]
     },
     "execution_count": 90,
     "metadata": {},
     "output_type": "execute_result"
    }
   ],
   "source": [
    "mf.full_matrix()"
   ]
  },
  {
   "cell_type": "code",
   "execution_count": 91,
   "metadata": {},
   "outputs": [
    {
     "data": {
      "text/plain": [
       "215.19221896310728"
      ]
     },
     "execution_count": 91,
     "metadata": {},
     "output_type": "execute_result"
    }
   ],
   "source": [
    "mf.mse()"
   ]
  },
  {
   "cell_type": "code",
   "execution_count": 93,
   "metadata": {},
   "outputs": [
    {
     "data": {
      "text/plain": [
       "4.067989332619494"
      ]
     },
     "execution_count": 93,
     "metadata": {},
     "output_type": "execute_result"
    }
   ],
   "source": [
    "mf.get_rating(45, 500)"
   ]
  },
  {
   "cell_type": "code",
   "execution_count": null,
   "metadata": {},
   "outputs": [],
   "source": [
    "def correlation_similarity():\n",
    "    def similarity(A, B):\n",
    "        dot_product = A.dot(B)"
   ]
  },
  {
   "cell_type": "code",
   "execution_count": 115,
   "metadata": {},
   "outputs": [],
   "source": [
    "tR = np.array([\n",
    "    [5, 3, 0, 1],\n",
    "    [4, 0, 0, 1],\n",
    "    [1, 1, 0, 5],\n",
    "    [1, 0, 0, 4],\n",
    "    [0, 1, 5, 4],\n",
    "])"
   ]
  },
  {
   "cell_type": "code",
   "execution_count": 116,
   "metadata": {},
   "outputs": [],
   "source": [
    "i,j = np.nonzero(tR)\n",
    "\n",
    "ix = np.random.choice(len(i), int(np.floor(0.5 * len(i))), replace = True)"
   ]
  },
  {
   "cell_type": "code",
   "execution_count": 117,
   "metadata": {},
   "outputs": [
    {
     "data": {
      "text/plain": [
       "(array([0, 0, 0, 1, 1, 2, 2, 2, 3, 3, 4, 4, 4]),\n",
       " array([0, 1, 3, 0, 3, 0, 1, 3, 0, 3, 1, 2, 3]))"
      ]
     },
     "execution_count": 117,
     "metadata": {},
     "output_type": "execute_result"
    }
   ],
   "source": [
    "i, j"
   ]
  },
  {
   "cell_type": "code",
   "execution_count": 138,
   "metadata": {},
   "outputs": [
    {
     "data": {
      "text/plain": [
       "<__main__.recommendation_system at 0x7f328bbc9588>"
      ]
     },
     "execution_count": 138,
     "metadata": {},
     "output_type": "execute_result"
    }
   ],
   "source": [
    "mf"
   ]
  },
  {
   "cell_type": "code",
   "execution_count": 126,
   "metadata": {},
   "outputs": [
    {
     "data": {
      "text/plain": [
       "array([ 0,  1,  2,  3,  4,  5,  6,  7,  8,  9, 10, 11, 12, 13, 14, 15, 16,\n",
       "       17, 18, 19, 20, 21, 22, 23, 24, 25, 26, 27, 28, 29, 30, 31, 32, 33,\n",
       "       34, 35, 36, 37, 38, 39, 40, 41, 42, 43, 44, 45, 46, 47, 48, 49, 50,\n",
       "       51, 52, 53, 54, 55, 56, 57, 58, 59, 60, 61, 62, 63, 64, 65, 66, 67,\n",
       "       68, 69, 70, 71, 72, 73, 74, 75, 76, 77, 78, 79, 80, 81, 82, 83, 84,\n",
       "       85, 86, 87, 88, 89, 90, 91, 92, 93, 94, 95, 96, 97, 98, 99])"
      ]
     },
     "execution_count": 126,
     "metadata": {},
     "output_type": "execute_result"
    }
   ],
   "source": [
    "np.arange(100)"
   ]
  },
  {
   "cell_type": "code",
   "execution_count": 127,
   "metadata": {},
   "outputs": [],
   "source": [
    "x = np.arange(100)\n",
    "np.random.shuffle(x)\n",
    "training, test = x[:80], x[80:]"
   ]
  },
  {
   "cell_type": "code",
   "execution_count": 128,
   "metadata": {},
   "outputs": [
    {
     "data": {
      "text/plain": [
       "array([ 9, 52, 51, 12, 67, 26, 60,  7, 83, 90, 79, 86, 24, 20, 21, 85, 65,\n",
       "       73, 97, 63, 34, 71, 92, 28, 47, 33, 84, 69, 25,  0, 18, 54, 30, 74,\n",
       "       91,  8, 57, 66, 19, 42,  4, 70, 46, 93, 75, 95, 43, 98, 77, 13, 55,\n",
       "       61,  1, 44, 32,  3, 62, 72, 96, 80, 11, 35, 17,  6, 99, 49, 48, 78,\n",
       "       15, 45, 94,  5, 81, 88, 76, 50, 14, 37, 59, 68])"
      ]
     },
     "execution_count": 128,
     "metadata": {},
     "output_type": "execute_result"
    }
   ],
   "source": [
    "training"
   ]
  },
  {
   "cell_type": "code",
   "execution_count": null,
   "metadata": {},
   "outputs": [],
   "source": []
  }
 ],
 "metadata": {
  "kernelspec": {
   "display_name": "Python 3",
   "language": "python",
   "name": "python3"
  },
  "language_info": {
   "codemirror_mode": {
    "name": "ipython",
    "version": 3
   },
   "file_extension": ".py",
   "mimetype": "text/x-python",
   "name": "python",
   "nbconvert_exporter": "python",
   "pygments_lexer": "ipython3",
   "version": "3.6.6"
  }
 },
 "nbformat": 4,
 "nbformat_minor": 2
}
