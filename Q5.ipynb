{
 "cells": [
  {
   "cell_type": "code",
   "execution_count": 1,
   "metadata": {},
   "outputs": [],
   "source": [
    "import numpy as np\n",
    "import glob, time\n",
    "from astropy.table import Table\n",
    "from astropy.io import ascii"
   ]
  },
  {
   "cell_type": "code",
   "execution_count": 8,
   "metadata": {},
   "outputs": [],
   "source": [
    "t = ascii.read('movie_ratings.csv')\n",
    "nUser = np.max(t['userId']) # total number of users\n",
    "nMovie = np.max(t['movieId']) # total number of movies"
   ]
  },
  {
   "cell_type": "code",
   "execution_count": 52,
   "metadata": {},
   "outputs": [],
   "source": [
    "R = np.zeros(shape = (nUser, nMovie))\n",
    "\n",
    "for nrow in np.arange(np.size(t)):\n",
    "    i = t[nrow][0] - 1 # the userId\n",
    "    j = t[nrow][1] - 1 # the movieId\n",
    "    R[i][j] = t[nrow][2] # the rating"
   ]
  },
  {
   "cell_type": "code",
   "execution_count": 36,
   "metadata": {},
   "outputs": [
    {
     "data": {
      "text/plain": [
       "array([[4. , 0. , 4. , ..., 0. , 0. , 0. ],\n",
       "       [0. , 0. , 0. , ..., 0. , 0. , 0. ],\n",
       "       [0. , 0. , 0. , ..., 0. , 0. , 0. ],\n",
       "       ...,\n",
       "       [2.5, 2. , 2. , ..., 0. , 0. , 0. ],\n",
       "       [3. , 0. , 0. , ..., 0. , 0. , 0. ],\n",
       "       [5. , 0. , 0. , ..., 0. , 0. , 0. ]])"
      ]
     },
     "execution_count": 36,
     "metadata": {},
     "output_type": "execute_result"
    }
   ],
   "source": [
    "R"
   ]
  },
  {
   "cell_type": "code",
   "execution_count": 64,
   "metadata": {},
   "outputs": [],
   "source": [
    "class MF():\n",
    "\n",
    "    def __init__(self, R, K, alpha, beta, iterations):\n",
    "        \"\"\"\n",
    "        Perform matrix factorization to predict empty\n",
    "        entries in a matrix.\n",
    "\n",
    "        Arguments\n",
    "        - R (ndarray)   : user-item rating matrix\n",
    "        - K (int)       : number of latent dimensions\n",
    "        - alpha (float) : learning rate\n",
    "        - beta (float)  : regularization parameter\n",
    "        \"\"\"\n",
    "\n",
    "        self.R = R\n",
    "        self.num_users, self.num_items = R.shape\n",
    "        self.K = K\n",
    "        self.alpha = alpha\n",
    "        self.beta = beta\n",
    "        self.iterations = iterations\n",
    "\n",
    "    def train(self):\n",
    "        # Initialize user and item latent feature matrice\n",
    "        self.P = np.random.normal(scale=1./self.K, size=(self.num_users, self.K))\n",
    "        self.Q = np.random.normal(scale=1./self.K, size=(self.num_items, self.K))\n",
    "\n",
    "#         # Initialize the biases\n",
    "#         self.b_u = np.zeros(self.num_users)\n",
    "#         self.b_i = np.zeros(self.num_items)\n",
    "#         self.b = np.mean(self.R[np.where(self.R != 0)])\n",
    "\n",
    "        # Create a list of training samples\n",
    "        self.samples = [\n",
    "            (i, j, self.R[i, j])\n",
    "            for i in range(self.num_users)\n",
    "            for j in range(self.num_items)\n",
    "            if self.R[i, j] > 0\n",
    "        ]\n",
    "\n",
    "        # Perform stochastic gradient descent for number of iterations\n",
    "        training_process = []\n",
    "        for i in range(self.iterations):\n",
    "            np.random.shuffle(self.samples)\n",
    "            self.sgd()\n",
    "            mse = self.mse()\n",
    "            training_process.append((i, mse))\n",
    "            if (i+1) % 10 == 0:\n",
    "                print(\"Iteration: %d ; error = %.4f\" % (i+1, mse))\n",
    "\n",
    "        return training_process\n",
    "\n",
    "    def mse(self):\n",
    "        \"\"\"\n",
    "        A function to compute the total mean square error\n",
    "        \"\"\"\n",
    "        xs, ys = self.R.nonzero()\n",
    "        predicted = self.full_matrix()\n",
    "        error = 0\n",
    "        for x, y in zip(xs, ys):\n",
    "            error += pow(self.R[x, y] - predicted[x, y], 2)\n",
    "        return np.sqrt(error)\n",
    "\n",
    "    def sgd(self):\n",
    "        \"\"\"\n",
    "        Perform stochastic graident descent\n",
    "        \"\"\"\n",
    "        for i, j, r in self.samples:\n",
    "            # Computer prediction and error\n",
    "            prediction = self.get_rating(i, j)\n",
    "            e = (r - prediction)\n",
    "            \n",
    "#             # Update biases\n",
    "#             self.b_u[i] += self.alpha * e * self.b_u[i]\n",
    "#             self.b_i[j] += self.alpha * e * self.b_i[j]\n",
    "\n",
    "            # Update user and item latent feature matrices\n",
    "            self.P[i, :] += self.alpha * e * self.Q[j, :]\n",
    "            self.Q[j, :] += self.alpha * e * self.P[i, :]\n",
    "\n",
    "#             # Update biases\n",
    "#             self.b_u[i] += self.alpha * (e - self.beta * self.b_u[i])\n",
    "#             self.b_i[j] += self.alpha * (e - self.beta * self.b_i[j])\n",
    "\n",
    "#             # Update user and item latent feature matrices\n",
    "#             self.P[i, :] += self.alpha * (e * self.Q[j, :] - self.beta * self.P[i,:])\n",
    "#             self.Q[j, :] += self.alpha * (e * self.P[i, :] - self.beta * self.Q[j,:])\n",
    "\n",
    "    def get_rating(self, i, j):\n",
    "        \"\"\"\n",
    "        Get the predicted rating of user i and item j\n",
    "        \"\"\"\n",
    "#         prediction = self.b + self.b_u[i] + self.b_i[j] + self.P[i, :].dot(self.Q[j, :].T)\n",
    "        prediction = self.P[i, :].dot(self.Q[j, :].T)\n",
    "        return prediction\n",
    "\n",
    "    def full_matrix(self):\n",
    "        \"\"\"\n",
    "        Computer the full matrix using the resultant biases, P and Q\n",
    "        \"\"\"\n",
    "        return self.P.dot(self.Q.T)"
   ]
  },
  {
   "cell_type": "code",
   "execution_count": 65,
   "metadata": {},
   "outputs": [],
   "source": [
    "mf = MF(R, K = 300, alpha = 0.01, beta = 0.01, iterations = 20)"
   ]
  },
  {
   "cell_type": "code",
   "execution_count": 66,
   "metadata": {},
   "outputs": [
    {
     "name": "stdout",
     "output_type": "stream",
     "text": [
      "Iteration: 10 ; error = 245.7600\n",
      "Iteration: 20 ; error = 167.7297\n"
     ]
    },
    {
     "data": {
      "text/plain": [
       "[(0, 1127.0150942989414),\n",
       " (1, 536.6652222748211),\n",
       " (2, 397.88150707584094),\n",
       " (3, 342.16408050693343),\n",
       " (4, 311.2101279754552),\n",
       " (5, 291.2605279157728),\n",
       " (6, 276.471622245819),\n",
       " (7, 265.3045807202362),\n",
       " (8, 254.73334962337853),\n",
       " (9, 245.759954768478),\n",
       " (10, 237.74153140730314),\n",
       " (11, 229.75229930596527),\n",
       " (12, 222.46522103888395),\n",
       " (13, 214.6292189810857),\n",
       " (14, 207.08003765660735),\n",
       " (15, 199.15938545220712),\n",
       " (16, 191.35131681999204),\n",
       " (17, 183.09691432950606),\n",
       " (18, 174.95828422106587),\n",
       " (19, 167.7297357152622)]"
      ]
     },
     "execution_count": 66,
     "metadata": {},
     "output_type": "execute_result"
    }
   ],
   "source": [
    "mf.train()"
   ]
  },
  {
   "cell_type": "code",
   "execution_count": 67,
   "metadata": {},
   "outputs": [
    {
     "data": {
      "text/plain": [
       "array([[ 4.36695266e+00,  4.00559506e+00,  4.10619084e+00, ...,\n",
       "        -8.49217016e-03,  7.52232842e-04,  4.41385278e+00],\n",
       "       [ 3.84834392e+00,  3.47825110e+00,  3.33656029e+00, ...,\n",
       "        -6.20060136e-03,  6.51501764e-04,  3.52057489e+00],\n",
       "       [ 2.16838208e+00,  2.20749198e+00,  2.12694066e+00, ...,\n",
       "        -3.27156007e-03, -1.90274535e-03,  2.49517628e+00],\n",
       "       ...,\n",
       "       [ 1.78071871e+00,  1.69946692e+00,  1.80354928e+00, ...,\n",
       "         1.08751826e-02,  3.07155812e-02,  3.35708554e+00],\n",
       "       [ 3.45548535e+00,  3.10507379e+00,  3.01864292e+00, ...,\n",
       "        -4.54302299e-03,  2.52447733e-03,  3.12720564e+00],\n",
       "       [ 5.06295135e+00,  3.37349689e+00,  3.45282615e+00, ...,\n",
       "         1.39257538e-03, -7.32187900e-03,  4.06822885e+00]])"
      ]
     },
     "execution_count": 67,
     "metadata": {},
     "output_type": "execute_result"
    }
   ],
   "source": [
    "mf.full_matrix()"
   ]
  },
  {
   "cell_type": "code",
   "execution_count": 68,
   "metadata": {},
   "outputs": [
    {
     "data": {
      "text/plain": [
       "167.7297357152622"
      ]
     },
     "execution_count": 68,
     "metadata": {},
     "output_type": "execute_result"
    }
   ],
   "source": [
    "mf.mse()"
   ]
  },
  {
   "cell_type": "code",
   "execution_count": null,
   "metadata": {},
   "outputs": [],
   "source": []
  }
 ],
 "metadata": {
  "kernelspec": {
   "display_name": "Python 3",
   "language": "python",
   "name": "python3"
  },
  "language_info": {
   "codemirror_mode": {
    "name": "ipython",
    "version": 3
   },
   "file_extension": ".py",
   "mimetype": "text/x-python",
   "name": "python",
   "nbconvert_exporter": "python",
   "pygments_lexer": "ipython3",
   "version": "3.6.6"
  }
 },
 "nbformat": 4,
 "nbformat_minor": 2
}
